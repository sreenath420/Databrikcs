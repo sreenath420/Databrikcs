{
 "cells": [
  {
   "cell_type": "code",
   "execution_count": 0,
   "metadata": {
    "application/vnd.databricks.v1+cell": {
     "cellMetadata": {
      "byteLimit": 2048000,
      "rowLimit": 10000
     },
     "inputWidgets": {},
     "nuid": "d2b04a81-ad88-439c-b1c1-bf4ededa0eab",
     "showTitle": false,
     "title": ""
    }
   },
   "outputs": [
    {
     "output_type": "stream",
     "name": "stdout",
     "output_type": "stream",
     "text": [
      "Hello\n"
     ]
    }
   ],
   "source": [
    "print(\"Hello\")"
   ]
  },
  {
   "cell_type": "code",
   "execution_count": 0,
   "metadata": {
    "application/vnd.databricks.v1+cell": {
     "cellMetadata": {
      "byteLimit": 2048000,
      "implicitDf": true,
      "rowLimit": 10000
     },
     "inputWidgets": {},
     "nuid": "6ec08cf5-ed56-42de-ba55-259633f45fdf",
     "showTitle": false,
     "title": ""
    }
   },
   "outputs": [
    {
     "output_type": "display_data",
     "data": {
      "text/html": [
       "<style scoped>\n",
       "  .table-result-container {\n",
       "    max-height: 300px;\n",
       "    overflow: auto;\n",
       "  }\n",
       "  table, th, td {\n",
       "    border: 1px solid black;\n",
       "    border-collapse: collapse;\n",
       "  }\n",
       "  th, td {\n",
       "    padding: 5px;\n",
       "  }\n",
       "  th {\n",
       "    text-align: left;\n",
       "  }\n",
       "</style><div class='table-result-container'><table class='table-result'><thead style='background-color: white'><tr><th>Hello world</th></tr></thead><tbody><tr><td>Hello world</td></tr></tbody></table></div>"
      ]
     },
     "metadata": {
      "application/vnd.databricks.v1+output": {
       "addedWidgets": {},
       "aggData": [],
       "aggError": "",
       "aggOverflow": false,
       "aggSchema": [],
       "aggSeriesLimitReached": false,
       "aggType": "",
       "arguments": {},
       "columnCustomDisplayInfos": {},
       "data": [
        [
         "Hello world"
        ]
       ],
       "datasetInfos": [],
       "dbfsResultPath": null,
       "isJsonSchema": true,
       "metadata": {},
       "overflow": false,
       "plotOptions": {
        "customPlotOptions": {},
        "displayType": "table",
        "pivotAggregation": null,
        "pivotColumns": null,
        "xColumns": null,
        "yColumns": null
       },
       "removedWidgets": [],
       "schema": [
        {
         "metadata": "{}",
         "name": "Hello world",
         "type": "\"string\""
        }
       ],
       "type": "table"
      }
     },
     "output_type": "display_data"
    }
   ],
   "source": [
    "%sql\n",
    "select \"Hello world\""
   ]
  },
  {
   "cell_type": "markdown",
   "metadata": {
    "application/vnd.databricks.v1+cell": {
     "cellMetadata": {},
     "inputWidgets": {},
     "nuid": "cec7ed58-4bbc-4f55-9841-91f665d22b5b",
     "showTitle": false,
     "title": ""
    }
   },
   "source": [
    "Hello\n",
    "#Title\n"
   ]
  },
  {
   "cell_type": "code",
   "execution_count": 0,
   "metadata": {
    "application/vnd.databricks.v1+cell": {
     "cellMetadata": {
      "byteLimit": 2048000,
      "rowLimit": 10000
     },
     "inputWidgets": {},
     "nuid": "8e6cffb3-b300-4b91-a53a-5f8cf85f4fad",
     "showTitle": false,
     "title": ""
    }
   },
   "outputs": [
    {
     "output_type": "display_data",
     "data": {
      "text/html": [
       "<style scoped>\n",
       "  .ansiout {\n",
       "    display: block;\n",
       "    unicode-bidi: embed;\n",
       "    white-space: pre-wrap;\n",
       "    word-wrap: break-word;\n",
       "    word-break: break-all;\n",
       "    font-family: \"Menlo\", \"Monaco\", \"Consolas\", \"Ubuntu Mono\", \"Source Code Pro\", monospace;\n",
       "    font-size: 13px;\n",
       "    color: #555;\n",
       "    margin-left: 4px;\n",
       "    line-height: 19px;\n",
       "  }\n",
       "</style>"
      ]
     },
     "metadata": {
      "application/vnd.databricks.v1+output": {
       "arguments": {},
       "data": "",
       "errorSummary": "Notebook not found: Users/gootysreenathreddy@gmail.com/Includes/Setup. Notebooks can be specified via a relative path (./Notebook or ../folder/Notebook) or via an absolute path (/Abs/Path/to/Notebook). Make sure you are specifying the path correctly.\n\nStacktrace:\n  /Users/gootysreenathreddy@gmail.com/Note Book Basics: python",
       "errorTraceType": null,
       "metadata": {},
       "type": "ipynbError"
      }
     },
     "output_type": "display_data"
    }
   ],
   "source": [
    "%run ./Includes/Setup"
   ]
  },
  {
   "cell_type": "code",
   "execution_count": 0,
   "metadata": {
    "application/vnd.databricks.v1+cell": {
     "cellMetadata": {
      "byteLimit": 2048000,
      "rowLimit": 10000
     },
     "inputWidgets": {},
     "nuid": "c62f1458-ea4d-41db-9462-572bbf5445b0",
     "showTitle": false,
     "title": ""
    }
   },
   "outputs": [
    {
     "output_type": "stream",
     "name": "stdout",
     "output_type": "stream",
     "text": [
      "Interactive namespace is empty.\n"
     ]
    }
   ],
   "source": [
    "%who"
   ]
  },
  {
   "cell_type": "code",
   "execution_count": 0,
   "metadata": {
    "application/vnd.databricks.v1+cell": {
     "cellMetadata": {
      "byteLimit": 2048000,
      "rowLimit": 10000
     },
     "inputWidgets": {},
     "nuid": "9cee2e51-f46e-4fb3-898a-3e26edd80261",
     "showTitle": false,
     "title": ""
    }
   },
   "outputs": [
    {
     "output_type": "display_data",
     "data": {
      "text/html": [
       "<div class = \"ansiout\"><b>dbutils.fs</b> provides utilities for working with FileSystems. Most methods in\n",
       "this package can take either a DBFS path (e.g., \"/foo\" or \"dbfs:/foo\"), or\n",
       "another FileSystem URI.\n",
       "\n",
       "For more info about a method, use <b>dbutils.fs.help(\"methodName\")</b>.\n",
       "\n",
       "In notebooks, you can also use the %fs shorthand to access DBFS. The %fs shorthand maps\n",
       "straightforwardly onto dbutils calls. For example, \"%fs head --maxBytes=10000 /file/path\"\n",
       "translates into \"dbutils.fs.head(\"/file/path\", maxBytes = 10000)\".\n",
       "    <h3>mount</h3><b>mount(source: String, mountPoint: String, encryptionType: String = \"\", owner: String = null, extraConfigs: Map = Map.empty[String, String]): boolean</b> -> Mounts the given source directory into DBFS at the given mount point<br /><b>mounts: Seq</b> -> Displays information about what is mounted within DBFS<br /><b>refreshMounts: boolean</b> -> Forces all machines in this cluster to refresh their mount cache, ensuring they receive the most recent information<br /><b>unmount(mountPoint: String): boolean</b> -> Deletes a DBFS mount point<br /><b>updateMount(source: String, mountPoint: String, encryptionType: String = \"\", owner: String = null, extraConfigs: Map = Map.empty[String, String]): boolean</b> -> Similar to mount(), but updates an existing mount point (if present) instead of creating a new one<br /><br /><h3>fsutils</h3><b>cp(from: String, to: String, recurse: boolean = false): boolean</b> -> Copies a file or directory, possibly across FileSystems<br /><b>head(file: String, maxBytes: int = 65536): String</b> -> Returns up to the first 'maxBytes' bytes of the given file as a String encoded in UTF-8<br /><b>ls(dir: String): Seq</b> -> Lists the contents of a directory<br /><b>mkdirs(dir: String): boolean</b> -> Creates the given directory if it does not exist, also creating any necessary parent directories<br /><b>mv(from: String, to: String, recurse: boolean = false): boolean</b> -> Moves a file or directory, possibly across FileSystems<br /><b>put(file: String, contents: String, overwrite: boolean = false): boolean</b> -> Writes the given String out to a file, encoded in UTF-8<br /><b>rm(dir: String, recurse: boolean = false): boolean</b> -> Removes a file or directory<br /><br /></div>"
      ]
     },
     "metadata": {
      "application/vnd.databricks.v1+output": {
       "addedWidgets": {},
       "arguments": {},
       "data": "<div class = \"ansiout\"><b>dbutils.fs</b> provides utilities for working with FileSystems. Most methods in\nthis package can take either a DBFS path (e.g., \"/foo\" or \"dbfs:/foo\"), or\nanother FileSystem URI.\n\nFor more info about a method, use <b>dbutils.fs.help(\"methodName\")</b>.\n\nIn notebooks, you can also use the %fs shorthand to access DBFS. The %fs shorthand maps\nstraightforwardly onto dbutils calls. For example, \"%fs head --maxBytes=10000 /file/path\"\ntranslates into \"dbutils.fs.head(\"/file/path\", maxBytes = 10000)\".\n    <h3>mount</h3><b>mount(source: String, mountPoint: String, encryptionType: String = \"\", owner: String = null, extraConfigs: Map = Map.empty[String, String]): boolean</b> -> Mounts the given source directory into DBFS at the given mount point<br /><b>mounts: Seq</b> -> Displays information about what is mounted within DBFS<br /><b>refreshMounts: boolean</b> -> Forces all machines in this cluster to refresh their mount cache, ensuring they receive the most recent information<br /><b>unmount(mountPoint: String): boolean</b> -> Deletes a DBFS mount point<br /><b>updateMount(source: String, mountPoint: String, encryptionType: String = \"\", owner: String = null, extraConfigs: Map = Map.empty[String, String]): boolean</b> -> Similar to mount(), but updates an existing mount point (if present) instead of creating a new one<br /><br /><h3>fsutils</h3><b>cp(from: String, to: String, recurse: boolean = false): boolean</b> -> Copies a file or directory, possibly across FileSystems<br /><b>head(file: String, maxBytes: int = 65536): String</b> -> Returns up to the first 'maxBytes' bytes of the given file as a String encoded in UTF-8<br /><b>ls(dir: String): Seq</b> -> Lists the contents of a directory<br /><b>mkdirs(dir: String): boolean</b> -> Creates the given directory if it does not exist, also creating any necessary parent directories<br /><b>mv(from: String, to: String, recurse: boolean = false): boolean</b> -> Moves a file or directory, possibly across FileSystems<br /><b>put(file: String, contents: String, overwrite: boolean = false): boolean</b> -> Writes the given String out to a file, encoded in UTF-8<br /><b>rm(dir: String, recurse: boolean = false): boolean</b> -> Removes a file or directory<br /><br /></div>",
       "datasetInfos": [],
       "metadata": {
        "isDbfsCommandResult": false
       },
       "removedWidgets": [],
       "textData": null,
       "type": "htmlSandbox"
      }
     },
     "output_type": "display_data"
    }
   ],
   "source": [
    "%fs"
   ]
  },
  {
   "cell_type": "code",
   "execution_count": 0,
   "metadata": {
    "application/vnd.databricks.v1+cell": {
     "cellMetadata": {
      "byteLimit": 2048000,
      "rowLimit": 10000
     },
     "inputWidgets": {},
     "nuid": "b962e06d-d921-48d1-9e0e-d20d4c419645",
     "showTitle": false,
     "title": ""
    }
   },
   "outputs": [
    {
     "output_type": "display_data",
     "data": {
      "text/html": [
       "<style scoped>\n",
       "  .table-result-container {\n",
       "    max-height: 300px;\n",
       "    overflow: auto;\n",
       "  }\n",
       "  table, th, td {\n",
       "    border: 1px solid black;\n",
       "    border-collapse: collapse;\n",
       "  }\n",
       "  th, td {\n",
       "    padding: 5px;\n",
       "  }\n",
       "  th {\n",
       "    text-align: left;\n",
       "  }\n",
       "</style><div class='table-result-container'><table class='table-result'><thead style='background-color: white'><tr><th>path</th><th>name</th><th>size</th><th>modificationTime</th></tr></thead><tbody><tr><td>dbfs:/FileStore/2010_12_01.csv</td><td>2010_12_01.csv</td><td>275001</td><td>1670336474000</td></tr><tr><td>dbfs:/FileStore/2010_12_02.csv</td><td>2010_12_02.csv</td><td>191826</td><td>1670336473000</td></tr><tr><td>dbfs:/FileStore/2010_12_03.csv</td><td>2010_12_03.csv</td><td>190700</td><td>1670336475000</td></tr><tr><td>dbfs:/FileStore/2010_12_05.csv</td><td>2010_12_05.csv</td><td>246056</td><td>1670336476000</td></tr><tr><td>dbfs:/FileStore/2010_12_06.csv</td><td>2010_12_06.csv</td><td>339039</td><td>1670336478000</td></tr><tr><td>dbfs:/FileStore/2010_12_07.csv</td><td>2010_12_07.csv</td><td>255832</td><td>1670336478000</td></tr><tr><td>dbfs:/FileStore/2010_12_08.csv</td><td>2010_12_08.csv</td><td>235974</td><td>1670336480000</td></tr><tr><td>dbfs:/FileStore/2010_12_09.csv</td><td>2010_12_09.csv</td><td>252904</td><td>1670336481000</td></tr><tr><td>dbfs:/FileStore/2010_12_10.csv</td><td>2010_12_10.csv</td><td>241468</td><td>1670336482000</td></tr><tr><td>dbfs:/FileStore/2010_12_12.csv</td><td>2010_12_12.csv</td><td>132120</td><td>1670336482000</td></tr><tr><td>dbfs:/FileStore/2010_12_13.csv</td><td>2010_12_13.csv</td><td>202021</td><td>1670336484000</td></tr><tr><td>dbfs:/FileStore/2010_12_14.csv</td><td>2010_12_14.csv</td><td>186685</td><td>1670336484000</td></tr><tr><td>dbfs:/FileStore/2010_12_15.csv</td><td>2010_12_15.csv</td><td>122496</td><td>1670336485000</td></tr><tr><td>dbfs:/FileStore/2010_12_16.csv</td><td>2010_12_16.csv</td><td>163452</td><td>1670336486000</td></tr><tr><td>dbfs:/FileStore/2010_12_17.csv</td><td>2010_12_17.csv</td><td>264944</td><td>1670336488000</td></tr><tr><td>dbfs:/FileStore/2010_12_19.csv</td><td>2010_12_19.csv</td><td>47264</td><td>1670336486000</td></tr><tr><td>dbfs:/FileStore/2010_12_20.csv</td><td>2010_12_20.csv</td><td>153561</td><td>1670336488000</td></tr><tr><td>dbfs:/FileStore/2010_12_21.csv</td><td>2010_12_21.csv</td><td>134904</td><td>1670336489000</td></tr><tr><td>dbfs:/FileStore/2010_12_22.csv</td><td>2010_12_22.csv</td><td>25836</td><td>1670336489000</td></tr><tr><td>dbfs:/FileStore/2010_12_23.csv</td><td>2010_12_23.csv</td><td>83192</td><td>1670336490000</td></tr><tr><td>dbfs:/FileStore/2010_summary.csv</td><td>2010_summary.csv</td><td>7121</td><td>1670336632000</td></tr><tr><td>dbfs:/FileStore/2010_summary.json</td><td>2010_summary.json</td><td>21353</td><td>1670336657000</td></tr><tr><td>dbfs:/FileStore/2011_01_04.csv</td><td>2011_01_04.csv</td><td>104656</td><td>1670336490000</td></tr><tr><td>dbfs:/FileStore/2011_01_05.csv</td><td>2011_01_05.csv</td><td>153733</td><td>1670336491000</td></tr><tr><td>dbfs:/FileStore/2011_01_06.csv</td><td>2011_01_06.csv</td><td>162100</td><td>1670336492000</td></tr><tr><td>dbfs:/FileStore/2011_01_07.csv</td><td>2011_01_07.csv</td><td>155938</td><td>1670336493000</td></tr><tr><td>dbfs:/FileStore/2011_01_09.csv</td><td>2011_01_09.csv</td><td>101317</td><td>1670336493000</td></tr><tr><td>dbfs:/FileStore/2011_01_10.csv</td><td>2011_01_10.csv</td><td>170418</td><td>1670336494000</td></tr><tr><td>dbfs:/FileStore/2011_01_11.csv</td><td>2011_01_11.csv</td><td>127847</td><td>1670336494000</td></tr><tr><td>dbfs:/FileStore/2011_01_12.csv</td><td>2011_01_12.csv</td><td>158187</td><td>1670336496000</td></tr><tr><td>dbfs:/FileStore/2011_01_13.csv</td><td>2011_01_13.csv</td><td>126109</td><td>1670336496000</td></tr><tr><td>dbfs:/FileStore/2011_01_14.csv</td><td>2011_01_14.csv</td><td>131086</td><td>1670336497000</td></tr><tr><td>dbfs:/FileStore/2011_01_16.csv</td><td>2011_01_16.csv</td><td>58906</td><td>1670336497000</td></tr><tr><td>dbfs:/FileStore/2011_01_17.csv</td><td>2011_01_17.csv</td><td>221821</td><td>1670336499000</td></tr><tr><td>dbfs:/FileStore/2011_01_18.csv</td><td>2011_01_18.csv</td><td>124711</td><td>1670336499000</td></tr><tr><td>dbfs:/FileStore/2011_01_19.csv</td><td>2011_01_19.csv</td><td>124865</td><td>1670336500000</td></tr><tr><td>dbfs:/FileStore/2011_01_20.csv</td><td>2011_01_20.csv</td><td>130157</td><td>1670336501000</td></tr><tr><td>dbfs:/FileStore/2011_01_21.csv</td><td>2011_01_21.csv</td><td>139157</td><td>1670336502000</td></tr><tr><td>dbfs:/FileStore/2011_01_23.csv</td><td>2011_01_23.csv</td><td>80012</td><td>1670336502000</td></tr><tr><td>dbfs:/FileStore/2011_01_24.csv</td><td>2011_01_24.csv</td><td>128813</td><td>1670336503000</td></tr><tr><td>dbfs:/FileStore/2011_01_25.csv</td><td>2011_01_25.csv</td><td>146739</td><td>1670336503000</td></tr><tr><td>dbfs:/FileStore/2011_01_26.csv</td><td>2011_01_26.csv</td><td>113985</td><td>1670336504000</td></tr><tr><td>dbfs:/FileStore/2011_01_27.csv</td><td>2011_01_27.csv</td><td>140033</td><td>1670336505000</td></tr><tr><td>dbfs:/FileStore/2011_01_28.csv</td><td>2011_01_28.csv</td><td>87450</td><td>1670336505000</td></tr><tr><td>dbfs:/FileStore/2011_01_30.csv</td><td>2011_01_30.csv</td><td>66171</td><td>1670336506000</td></tr><tr><td>dbfs:/FileStore/2011_01_31.csv</td><td>2011_01_31.csv</td><td>132774</td><td>1670336507000</td></tr><tr><td>dbfs:/FileStore/2011_02_01.csv</td><td>2011_02_01.csv</td><td>139954</td><td>1670336507000</td></tr><tr><td>dbfs:/FileStore/2011_02_02.csv</td><td>2011_02_02.csv</td><td>124794</td><td>1670336508000</td></tr><tr><td>dbfs:/FileStore/2011_02_03.csv</td><td>2011_02_03.csv</td><td>87779</td><td>1670336508000</td></tr><tr><td>dbfs:/FileStore/2011_02_04.csv</td><td>2011_02_04.csv</td><td>107014</td><td>1670336509000</td></tr><tr><td>dbfs:/FileStore/2011_02_06.csv</td><td>2011_02_06.csv</td><td>25516</td><td>1670336509000</td></tr><tr><td>dbfs:/FileStore/2011_02_07.csv</td><td>2011_02_07.csv</td><td>111980</td><td>1670336510000</td></tr><tr><td>dbfs:/FileStore/2011_02_08.csv</td><td>2011_02_08.csv</td><td>107136</td><td>1670336510000</td></tr><tr><td>dbfs:/FileStore/2011_02_09.csv</td><td>2011_02_09.csv</td><td>75999</td><td>1670336511000</td></tr><tr><td>dbfs:/FileStore/2011_02_10.csv</td><td>2011_02_10.csv</td><td>70942</td><td>1670336511000</td></tr><tr><td>dbfs:/FileStore/2011_02_11.csv</td><td>2011_02_11.csv</td><td>83807</td><td>1670336512000</td></tr><tr><td>dbfs:/FileStore/2011_02_13.csv</td><td>2011_02_13.csv</td><td>57098</td><td>1670336512000</td></tr><tr><td>dbfs:/FileStore/2011_02_14.csv</td><td>2011_02_14.csv</td><td>97341</td><td>1670336513000</td></tr><tr><td>dbfs:/FileStore/2011_02_15.csv</td><td>2011_02_15.csv</td><td>117745</td><td>1670336514000</td></tr><tr><td>dbfs:/FileStore/2011_02_16.csv</td><td>2011_02_16.csv</td><td>106100</td><td>1670336514000</td></tr><tr><td>dbfs:/FileStore/2011_02_17.csv</td><td>2011_02_17.csv</td><td>150882</td><td>1670336515000</td></tr><tr><td>dbfs:/FileStore/2011_02_18.csv</td><td>2011_02_18.csv</td><td>75633</td><td>1670336516000</td></tr><tr><td>dbfs:/FileStore/2011_02_20.csv</td><td>2011_02_20.csv</td><td>78068</td><td>1670336516000</td></tr><tr><td>dbfs:/FileStore/2011_02_21.csv</td><td>2011_02_21.csv</td><td>124088</td><td>1670336517000</td></tr><tr><td>dbfs:/FileStore/2011_02_22.csv</td><td>2011_02_22.csv</td><td>142089</td><td>1670336518000</td></tr><tr><td>dbfs:/FileStore/2011_02_23.csv</td><td>2011_02_23.csv</td><td>138337</td><td>1670336518000</td></tr><tr><td>dbfs:/FileStore/2011_02_24.csv</td><td>2011_02_24.csv</td><td>116769</td><td>1670336519000</td></tr><tr><td>dbfs:/FileStore/2011_02_25.csv</td><td>2011_02_25.csv</td><td>87507</td><td>1670336520000</td></tr><tr><td>dbfs:/FileStore/2011_02_27.csv</td><td>2011_02_27.csv</td><td>74111</td><td>1670336520000</td></tr><tr><td>dbfs:/FileStore/2011_02_28.csv</td><td>2011_02_28.csv</td><td>151947</td><td>1670336521000</td></tr><tr><td>dbfs:/FileStore/2011_03_01.csv</td><td>2011_03_01.csv</td><td>119793</td><td>1670336522000</td></tr><tr><td>dbfs:/FileStore/2011_03_02.csv</td><td>2011_03_02.csv</td><td>85302</td><td>1670336522000</td></tr><tr><td>dbfs:/FileStore/2011_03_03.csv</td><td>2011_03_03.csv</td><td>122010</td><td>1670336524000</td></tr><tr><td>dbfs:/FileStore/2011_03_04.csv</td><td>2011_03_04.csv</td><td>97942</td><td>1670336524000</td></tr><tr><td>dbfs:/FileStore/2011_03_06.csv</td><td>2011_03_06.csv</td><td>76977</td><td>1670336525000</td></tr><tr><td>dbfs:/FileStore/2011_03_07.csv</td><td>2011_03_07.csv</td><td>172784</td><td>1670336526000</td></tr><tr><td>dbfs:/FileStore/2011_03_08.csv</td><td>2011_03_08.csv</td><td>141880</td><td>1670336526000</td></tr><tr><td>dbfs:/FileStore/2011_03_09.csv</td><td>2011_03_09.csv</td><td>113715</td><td>1670336527000</td></tr><tr><td>dbfs:/FileStore/2011_03_10.csv</td><td>2011_03_10.csv</td><td>100881</td><td>1670336527000</td></tr><tr><td>dbfs:/FileStore/2011_03_11.csv</td><td>2011_03_11.csv</td><td>84393</td><td>1670336528000</td></tr><tr><td>dbfs:/FileStore/2011_03_13.csv</td><td>2011_03_13.csv</td><td>48917</td><td>1670336528000</td></tr><tr><td>dbfs:/FileStore/2011_03_14.csv</td><td>2011_03_14.csv</td><td>99595</td><td>1670336529000</td></tr><tr><td>dbfs:/FileStore/2011_03_15.csv</td><td>2011_03_15.csv</td><td>112853</td><td>1670336529000</td></tr><tr><td>dbfs:/FileStore/2011_03_16.csv</td><td>2011_03_16.csv</td><td>78923</td><td>1670336530000</td></tr><tr><td>dbfs:/FileStore/2011_03_17.csv</td><td>2011_03_17.csv</td><td>180245</td><td>1670336531000</td></tr><tr><td>dbfs:/FileStore/2011_03_18.csv</td><td>2011_03_18.csv</td><td>122082</td><td>1670336532000</td></tr><tr><td>dbfs:/FileStore/2011_03_20.csv</td><td>2011_03_20.csv</td><td>130096</td><td>1670336533000</td></tr><tr><td>dbfs:/FileStore/2011_03_21.csv</td><td>2011_03_21.csv</td><td>96588</td><td>1670336533000</td></tr><tr><td>dbfs:/FileStore/2011_03_22.csv</td><td>2011_03_22.csv</td><td>206516</td><td>1670336535000</td></tr><tr><td>dbfs:/FileStore/2011_03_23.csv</td><td>2011_03_23.csv</td><td>116861</td><td>1670336535000</td></tr><tr><td>dbfs:/FileStore/2011_03_24.csv</td><td>2011_03_24.csv</td><td>141988</td><td>1670336536000</td></tr><tr><td>dbfs:/FileStore/2011_03_25.csv</td><td>2011_03_25.csv</td><td>122156</td><td>1670336536000</td></tr><tr><td>dbfs:/FileStore/2011_03_27.csv</td><td>2011_03_27.csv</td><td>67786</td><td>1670336537000</td></tr><tr><td>dbfs:/FileStore/2011_03_28.csv</td><td>2011_03_28.csv</td><td>147212</td><td>1670336538000</td></tr><tr><td>dbfs:/FileStore/2011_03_29.csv</td><td>2011_03_29.csv</td><td>173104</td><td>1670336539000</td></tr><tr><td>dbfs:/FileStore/2011_03_30.csv</td><td>2011_03_30.csv</td><td>141435</td><td>1670336540000</td></tr><tr><td>dbfs:/FileStore/2011_03_31.csv</td><td>2011_03_31.csv</td><td>152420</td><td>1670336541000</td></tr><tr><td>dbfs:/FileStore/2011_04_01.csv</td><td>2011_04_01.csv</td><td>112493</td><td>1670336541000</td></tr><tr><td>dbfs:/FileStore/2011_04_03.csv</td><td>2011_04_03.csv</td><td>66518</td><td>1670336542000</td></tr><tr><td>dbfs:/FileStore/2011_04_04.csv</td><td>2011_04_04.csv</td><td>150711</td><td>1670336542000</td></tr><tr><td>dbfs:/FileStore/2011_04_05.csv</td><td>2011_04_05.csv</td><td>107560</td><td>1670336543000</td></tr><tr><td>dbfs:/FileStore/2011_04_06.csv</td><td>2011_04_06.csv</td><td>98068</td><td>1670336544000</td></tr><tr><td>dbfs:/FileStore/2011_04_07.csv</td><td>2011_04_07.csv</td><td>136252</td><td>1670336544000</td></tr><tr><td>dbfs:/FileStore/2011_04_08.csv</td><td>2011_04_08.csv</td><td>125969</td><td>1670336545000</td></tr><tr><td>dbfs:/FileStore/2011_04_10.csv</td><td>2011_04_10.csv</td><td>85637</td><td>1670336546000</td></tr><tr><td>dbfs:/FileStore/2011_04_11.csv</td><td>2011_04_11.csv</td><td>112516</td><td>1670336546000</td></tr><tr><td>dbfs:/FileStore/2011_04_12.csv</td><td>2011_04_12.csv</td><td>104116</td><td>1670336547000</td></tr><tr><td>dbfs:/FileStore/2011_04_13.csv</td><td>2011_04_13.csv</td><td>95007</td><td>1670336547000</td></tr><tr><td>dbfs:/FileStore/2011_04_14.csv</td><td>2011_04_14.csv</td><td>144236</td><td>1670336548000</td></tr><tr><td>dbfs:/FileStore/2011_04_15.csv</td><td>2011_04_15.csv</td><td>128980</td><td>1670336549000</td></tr><tr><td>dbfs:/FileStore/2011_04_17.csv</td><td>2011_04_17.csv</td><td>87658</td><td>1670336549000</td></tr><tr><td>dbfs:/FileStore/2011_04_18.csv</td><td>2011_04_18.csv</td><td>280118</td><td>1670336552000</td></tr><tr><td>dbfs:/FileStore/2011_04_19.csv</td><td>2011_04_19.csv</td><td>165965</td><td>1670336551000</td></tr><tr><td>dbfs:/FileStore/2011_04_20.csv</td><td>2011_04_20.csv</td><td>91865</td><td>1670336553000</td></tr><tr><td>dbfs:/FileStore/2011_04_21.csv</td><td>2011_04_21.csv</td><td>170023</td><td>1670336554000</td></tr><tr><td>dbfs:/FileStore/2011_04_26.csv</td><td>2011_04_26.csv</td><td>167480</td><td>1670336554000</td></tr><tr><td>dbfs:/FileStore/2011_04_27.csv</td><td>2011_04_27.csv</td><td>116613</td><td>1670336555000</td></tr><tr><td>dbfs:/FileStore/2011_04_28.csv</td><td>2011_04_28.csv</td><td>106481</td><td>1670336556000</td></tr><tr><td>dbfs:/FileStore/2011_05_01.csv</td><td>2011_05_01.csv</td><td>40884</td><td>1670336556000</td></tr><tr><td>dbfs:/FileStore/2011_05_03.csv</td><td>2011_05_03.csv</td><td>126563</td><td>1670336557000</td></tr><tr><td>dbfs:/FileStore/2011_05_04.csv</td><td>2011_05_04.csv</td><td>105162</td><td>1670336557000</td></tr><tr><td>dbfs:/FileStore/2011_05_05.csv</td><td>2011_05_05.csv</td><td>162318</td><td>1670336558000</td></tr><tr><td>dbfs:/FileStore/2011_05_06.csv</td><td>2011_05_06.csv</td><td>180297</td><td>1670336559000</td></tr><tr><td>dbfs:/FileStore/2011_05_08.csv</td><td>2011_05_08.csv</td><td>136006</td><td>1670336560000</td></tr><tr><td>dbfs:/FileStore/2011_05_09.csv</td><td>2011_05_09.csv</td><td>154043</td><td>1670336560000</td></tr><tr><td>dbfs:/FileStore/2011_05_10.csv</td><td>2011_05_10.csv</td><td>224383</td><td>1670336562000</td></tr><tr><td>dbfs:/FileStore/2011_05_11.csv</td><td>2011_05_11.csv</td><td>151121</td><td>1670336562000</td></tr><tr><td>dbfs:/FileStore/2011_05_12.csv</td><td>2011_05_12.csv</td><td>175096</td><td>1670336564000</td></tr><tr><td>dbfs:/FileStore/2011_05_13.csv</td><td>2011_05_13.csv</td><td>125524</td><td>1670336564000</td></tr><tr><td>dbfs:/FileStore/2011_05_15.csv</td><td>2011_05_15.csv</td><td>73038</td><td>1670336565000</td></tr><tr><td>dbfs:/FileStore/2011_05_16.csv</td><td>2011_05_16.csv</td><td>140801</td><td>1670336565000</td></tr><tr><td>dbfs:/FileStore/2011_05_17.csv</td><td>2011_05_17.csv</td><td>168847</td><td>1670336567000</td></tr><tr><td>dbfs:/FileStore/2011_05_18.csv</td><td>2011_05_18.csv</td><td>121774</td><td>1670336567000</td></tr><tr><td>dbfs:/FileStore/2011_05_19.csv</td><td>2011_05_19.csv</td><td>172737</td><td>1670336568000</td></tr><tr><td>dbfs:/FileStore/2011_05_20.csv</td><td>2011_05_20.csv</td><td>100198</td><td>1670336568000</td></tr><tr><td>dbfs:/FileStore/2011_05_22.csv</td><td>2011_05_22.csv</td><td>141114</td><td>1670336569000</td></tr><tr><td>dbfs:/FileStore/2011_05_23.csv</td><td>2011_05_23.csv</td><td>144869</td><td>1670336570000</td></tr><tr><td>dbfs:/FileStore/2011_05_24.csv</td><td>2011_05_24.csv</td><td>153615</td><td>1670336571000</td></tr><tr><td>dbfs:/FileStore/2011_05_25.csv</td><td>2011_05_25.csv</td><td>116151</td><td>1670336571000</td></tr><tr><td>dbfs:/FileStore/2011_05_26.csv</td><td>2011_05_26.csv</td><td>86137</td><td>1670336572000</td></tr><tr><td>dbfs:/FileStore/2011_05_27.csv</td><td>2011_05_27.csv</td><td>103064</td><td>1670336572000</td></tr><tr><td>dbfs:/FileStore/2011_05_29.csv</td><td>2011_05_29.csv</td><td>57243</td><td>1670336572000</td></tr><tr><td>dbfs:/FileStore/2011_05_31.csv</td><td>2011_05_31.csv</td><td>112113</td><td>1670336573000</td></tr><tr><td>dbfs:/FileStore/2011_06_01.csv</td><td>2011_06_01.csv</td><td>126676</td><td>1670336573000</td></tr><tr><td>dbfs:/FileStore/2011_06_02.csv</td><td>2011_06_02.csv</td><td>139233</td><td>1670336575000</td></tr><tr><td>dbfs:/FileStore/2011_06_03.csv</td><td>2011_06_03.csv</td><td>75454</td><td>1670336574000</td></tr><tr><td>dbfs:/FileStore/2011_06_05.csv</td><td>2011_06_05.csv</td><td>140061</td><td>1670336576000</td></tr><tr><td>dbfs:/FileStore/2011_06_06.csv</td><td>2011_06_06.csv</td><td>109829</td><td>1670336576000</td></tr><tr><td>dbfs:/FileStore/2011_06_07.csv</td><td>2011_06_07.csv</td><td>171241</td><td>1670336577000</td></tr><tr><td>dbfs:/FileStore/2011_06_08.csv</td><td>2011_06_08.csv</td><td>203086</td><td>1670336577000</td></tr><tr><td>dbfs:/FileStore/2011_06_09.csv</td><td>2011_06_09.csv</td><td>162227</td><td>1670336579000</td></tr><tr><td>dbfs:/FileStore/2011_06_10.csv</td><td>2011_06_10.csv</td><td>93701</td><td>1670336578000</td></tr><tr><td>dbfs:/FileStore/2011_06_12.csv</td><td>2011_06_12.csv</td><td>97835</td><td>1670336579000</td></tr><tr><td>dbfs:/FileStore/2011_06_13.csv</td><td>2011_06_13.csv</td><td>129767</td><td>1670336580000</td></tr><tr><td>dbfs:/FileStore/2011_06_14.csv</td><td>2011_06_14.csv</td><td>140214</td><td>1670336581000</td></tr><tr><td>dbfs:/FileStore/2011_06_15.csv</td><td>2011_06_15.csv</td><td>151127</td><td>1670336581000</td></tr><tr><td>dbfs:/FileStore/2011_06_16.csv</td><td>2011_06_16.csv</td><td>136339</td><td>1670336582000</td></tr><tr><td>dbfs:/FileStore/2011_06_17.csv</td><td>2011_06_17.csv</td><td>85739</td><td>1670336583000</td></tr><tr><td>dbfs:/FileStore/2011_06_19.csv</td><td>2011_06_19.csv</td><td>105190</td><td>1670336583000</td></tr><tr><td>dbfs:/FileStore/2011_06_20.csv</td><td>2011_06_20.csv</td><td>175539</td><td>1670336584000</td></tr><tr><td>dbfs:/FileStore/2011_06_21.csv</td><td>2011_06_21.csv</td><td>134322</td><td>1670336585000</td></tr><tr><td>dbfs:/FileStore/2011_06_22.csv</td><td>2011_06_22.csv</td><td>91369</td><td>1670336585000</td></tr><tr><td>dbfs:/FileStore/2011_06_23.csv</td><td>2011_06_23.csv</td><td>175463</td><td>1670336587000</td></tr><tr><td>dbfs:/FileStore/2011_06_24.csv</td><td>2011_06_24.csv</td><td>91308</td><td>1670336587000</td></tr><tr><td>dbfs:/FileStore/2011_06_26.csv</td><td>2011_06_26.csv</td><td>64579</td><td>1670336587000</td></tr><tr><td>dbfs:/FileStore/2011_06_27.csv</td><td>2011_06_27.csv</td><td>104370</td><td>1670336588000</td></tr><tr><td>dbfs:/FileStore/2011_06_28.csv</td><td>2011_06_28.csv</td><td>92153</td><td>1670336588000</td></tr><tr><td>dbfs:/FileStore/2011_06_29.csv</td><td>2011_06_29.csv</td><td>117488</td><td>1670336589000</td></tr><tr><td>dbfs:/FileStore/2011_06_30.csv</td><td>2011_06_30.csv</td><td>143253</td><td>1670336590000</td></tr><tr><td>dbfs:/FileStore/2011_07_01.csv</td><td>2011_07_01.csv</td><td>90752</td><td>1670336590000</td></tr><tr><td>dbfs:/FileStore/2011_07_03.csv</td><td>2011_07_03.csv</td><td>54798</td><td>1670336590000</td></tr><tr><td>dbfs:/FileStore/2011_07_04.csv</td><td>2011_07_04.csv</td><td>189204</td><td>1670336592000</td></tr><tr><td>dbfs:/FileStore/2011_07_05.csv</td><td>2011_07_05.csv</td><td>189831</td><td>1670336592000</td></tr><tr><td>dbfs:/FileStore/2011_07_06.csv</td><td>2011_07_06.csv</td><td>159436</td><td>1670336594000</td></tr><tr><td>dbfs:/FileStore/2011_07_07.csv</td><td>2011_07_07.csv</td><td>171634</td><td>1670336594000</td></tr><tr><td>dbfs:/FileStore/2011_07_08.csv</td><td>2011_07_08.csv</td><td>140138</td><td>1670336595000</td></tr><tr><td>dbfs:/FileStore/2011_07_10.csv</td><td>2011_07_10.csv</td><td>74191</td><td>1670336595000</td></tr><tr><td>dbfs:/FileStore/2011_07_11.csv</td><td>2011_07_11.csv</td><td>133475</td><td>1670336597000</td></tr><tr><td>dbfs:/FileStore/2011_07_12.csv</td><td>2011_07_12.csv</td><td>144196</td><td>1670336597000</td></tr><tr><td>dbfs:/FileStore/2011_07_13.csv</td><td>2011_07_13.csv</td><td>144027</td><td>1670336598000</td></tr><tr><td>dbfs:/FileStore/2011_07_14.csv</td><td>2011_07_14.csv</td><td>153670</td><td>1670336599000</td></tr><tr><td>dbfs:/FileStore/2011_07_15.csv</td><td>2011_07_15.csv</td><td>99926</td><td>1670336599000</td></tr><tr><td>dbfs:/FileStore/2011_07_17.csv</td><td>2011_07_17.csv</td><td>112983</td><td>1670336600000</td></tr><tr><td>dbfs:/FileStore/2011_07_18.csv</td><td>2011_07_18.csv</td><td>194171</td><td>1670336601000</td></tr><tr><td>dbfs:/FileStore/2011_07_19.csv</td><td>2011_07_19.csv</td><td>147143</td><td>1670336601000</td></tr><tr><td>dbfs:/FileStore/2011_07_20.csv</td><td>2011_07_20.csv</td><td>177416</td><td>1670336603000</td></tr><tr><td>dbfs:/FileStore/2011_07_21.csv</td><td>2011_07_21.csv</td><td>140592</td><td>1670336602000</td></tr><tr><td>dbfs:/FileStore/2011_07_22.csv</td><td>2011_07_22.csv</td><td>113759</td><td>1670336604000</td></tr><tr><td>dbfs:/FileStore/2011_07_24.csv</td><td>2011_07_24.csv</td><td>101031</td><td>1670336604000</td></tr><tr><td>dbfs:/FileStore/2011_07_25.csv</td><td>2011_07_25.csv</td><td>170093</td><td>1670336605000</td></tr><tr><td>dbfs:/FileStore/2011_07_26.csv</td><td>2011_07_26.csv</td><td>112780</td><td>1670336605000</td></tr><tr><td>dbfs:/FileStore/2011_07_27.csv</td><td>2011_07_27.csv</td><td>109514</td><td>1670336606000</td></tr><tr><td>dbfs:/FileStore/2011_07_28.csv</td><td>2011_07_28.csv</td><td>138826</td><td>1670336607000</td></tr><tr><td>dbfs:/FileStore/2011_07_29.csv</td><td>2011_07_29.csv</td><td>101094</td><td>1670336607000</td></tr><tr><td>dbfs:/FileStore/2011_07_31.csv</td><td>2011_07_31.csv</td><td>114650</td><td>1670336608000</td></tr><tr><td>dbfs:/FileStore/2011_08_01.csv</td><td>2011_08_01.csv</td><td>107491</td><td>1670336608000</td></tr><tr><td>dbfs:/FileStore/2011_08_02.csv</td><td>2011_08_02.csv</td><td>120138</td><td>1670336609000</td></tr><tr><td>dbfs:/FileStore/2011_08_03.csv</td><td>2011_08_03.csv</td><td>140576</td><td>1670336610000</td></tr><tr><td>dbfs:/FileStore/2011_08_04.csv</td><td>2011_08_04.csv</td><td>162548</td><td>1670336611000</td></tr><tr><td>dbfs:/FileStore/2011_08_05.csv</td><td>2011_08_05.csv</td><td>127923</td><td>1670336611000</td></tr><tr><td>dbfs:/FileStore/2011_08_07.csv</td><td>2011_08_07.csv</td><td>49245</td><td>1670336612000</td></tr><tr><td>dbfs:/FileStore/2011_08_08.csv</td><td>2011_08_08.csv</td><td>131650</td><td>1670336612000</td></tr><tr><td>dbfs:/FileStore/2011_08_09.csv</td><td>2011_08_09.csv</td><td>100002</td><td>1670336613000</td></tr><tr><td>dbfs:/FileStore/2011_08_10.csv</td><td>2011_08_10.csv</td><td>120046</td><td>1670336614000</td></tr><tr><td>dbfs:/FileStore/2011_08_11.csv</td><td>2011_08_11.csv</td><td>175951</td><td>1670336614000</td></tr><tr><td>dbfs:/FileStore/2011_08_12.csv</td><td>2011_08_12.csv</td><td>97516</td><td>1670336615000</td></tr><tr><td>dbfs:/FileStore/2011_08_14.csv</td><td>2011_08_14.csv</td><td>50684</td><td>1670336615000</td></tr><tr><td>dbfs:/FileStore/2011_08_15.csv</td><td>2011_08_15.csv</td><td>82959</td><td>1670336616000</td></tr><tr><td>dbfs:/FileStore/2011_08_16.csv</td><td>2011_08_16.csv</td><td>92486</td><td>1670336616000</td></tr><tr><td>dbfs:/FileStore/2011_08_17.csv</td><td>2011_08_17.csv</td><td>148605</td><td>1670336617000</td></tr><tr><td>dbfs:/FileStore/2011_08_18.csv</td><td>2011_08_18.csv</td><td>137689</td><td>1670336617000</td></tr><tr><td>dbfs:/FileStore/2011_08_19.csv</td><td>2011_08_19.csv</td><td>72940</td><td>1670336619000</td></tr><tr><td>dbfs:/FileStore/2011_08_21.csv</td><td>2011_08_21.csv</td><td>97031</td><td>1670336619000</td></tr><tr><td>dbfs:/FileStore/2011_08_22.csv</td><td>2011_08_22.csv</td><td>114812</td><td>1670336620000</td></tr><tr><td>dbfs:/FileStore/2011_08_23.csv</td><td>2011_08_23.csv</td><td>130326</td><td>1670336620000</td></tr><tr><td>dbfs:/FileStore/2011_08_24.csv</td><td>2011_08_24.csv</td><td>167436</td><td>1670336622000</td></tr><tr><td>dbfs:/FileStore/2011_08_25.csv</td><td>2011_08_25.csv</td><td>118982</td><td>1670336622000</td></tr><tr><td>dbfs:/FileStore/2011_08_26.csv</td><td>2011_08_26.csv</td><td>82531</td><td>1670336623000</td></tr><tr><td>dbfs:/FileStore/2011_08_28.csv</td><td>2011_08_28.csv</td><td>107760</td><td>1670336623000</td></tr><tr><td>dbfs:/FileStore/2011_08_30.csv</td><td>2011_08_30.csv</td><td>274692</td><td>1670336625000</td></tr><tr><td>dbfs:/FileStore/2011_08_31.csv</td><td>2011_08_31.csv</td><td>113373</td><td>1670336624000</td></tr><tr><td>dbfs:/FileStore/2011_09_01.csv</td><td>2011_09_01.csv</td><td>127664</td><td>1670336626000</td></tr><tr><td>dbfs:/FileStore/2011_09_02.csv</td><td>2011_09_02.csv</td><td>205036</td><td>1670336627000</td></tr><tr><td>dbfs:/FileStore/2011_09_04.csv</td><td>2011_09_04.csv</td><td>120645</td><td>1670336627000</td></tr><tr><td>dbfs:/FileStore/2011_09_05.csv</td><td>2011_09_05.csv</td><td>141625</td><td>1670336629000</td></tr><tr><td>dbfs:/FileStore/2011_09_06.csv</td><td>2011_09_06.csv</td><td>102669</td><td>1670336628000</td></tr><tr><td>dbfs:/FileStore/2011_09_07.csv</td><td>2011_09_07.csv</td><td>181656</td><td>1670336630000</td></tr><tr><td>dbfs:/FileStore/2011_09_08.csv</td><td>2011_09_08.csv</td><td>156826</td><td>1670336630000</td></tr><tr><td>dbfs:/FileStore/2011_09_09.csv</td><td>2011_09_09.csv</td><td>142210</td><td>1670336631000</td></tr><tr><td>dbfs:/FileStore/2011_09_11.csv</td><td>2011_09_11.csv</td><td>185196</td><td>1670336632000</td></tr><tr><td>dbfs:/FileStore/2011_09_12.csv</td><td>2011_09_12.csv</td><td>154124</td><td>1670336633000</td></tr><tr><td>dbfs:/FileStore/2011_09_13.csv</td><td>2011_09_13.csv</td><td>217571</td><td>1670336634000</td></tr><tr><td>dbfs:/FileStore/2011_09_14.csv</td><td>2011_09_14.csv</td><td>123164</td><td>1670336634000</td></tr><tr><td>dbfs:/FileStore/2011_09_15.csv</td><td>2011_09_15.csv</td><td>195419</td><td>1670336636000</td></tr><tr><td>dbfs:/FileStore/2011_09_16.csv</td><td>2011_09_16.csv</td><td>131715</td><td>1670336636000</td></tr><tr><td>dbfs:/FileStore/2011_09_18.csv</td><td>2011_09_18.csv</td><td>116452</td><td>1670336637000</td></tr><tr><td>dbfs:/FileStore/2011_09_19.csv</td><td>2011_09_19.csv</td><td>128010</td><td>1670336637000</td></tr><tr><td>dbfs:/FileStore/2011_09_20.csv</td><td>2011_09_20.csv</td><td>153186</td><td>1670336638000</td></tr><tr><td>dbfs:/FileStore/2011_09_21.csv</td><td>2011_09_21.csv</td><td>272947</td><td>1670336640000</td></tr><tr><td>dbfs:/FileStore/2011_09_22.csv</td><td>2011_09_22.csv</td><td>246699</td><td>1670336641000</td></tr><tr><td>dbfs:/FileStore/2011_09_23.csv</td><td>2011_09_23.csv</td><td>233544</td><td>1670336642000</td></tr><tr><td>dbfs:/FileStore/2011_09_25.csv</td><td>2011_09_25.csv</td><td>182072</td><td>1670336642000</td></tr><tr><td>dbfs:/FileStore/2011_09_26.csv</td><td>2011_09_26.csv</td><td>141083</td><td>1670336644000</td></tr><tr><td>dbfs:/FileStore/2011_09_27.csv</td><td>2011_09_27.csv</td><td>168998</td><td>1670336644000</td></tr><tr><td>dbfs:/FileStore/2011_09_28.csv</td><td>2011_09_28.csv</td><td>255103</td><td>1670336646000</td></tr><tr><td>dbfs:/FileStore/2011_09_29.csv</td><td>2011_09_29.csv</td><td>225953</td><td>1670336647000</td></tr><tr><td>dbfs:/FileStore/2011_09_30.csv</td><td>2011_09_30.csv</td><td>168344</td><td>1670336648000</td></tr><tr><td>dbfs:/FileStore/2011_10_02.csv</td><td>2011_10_02.csv</td><td>130864</td><td>1670336648000</td></tr><tr><td>dbfs:/FileStore/2011_10_03.csv</td><td>2011_10_03.csv</td><td>205031</td><td>1670336650000</td></tr><tr><td>dbfs:/FileStore/2011_10_04.csv</td><td>2011_10_04.csv</td><td>249521</td><td>1670336650000</td></tr><tr><td>dbfs:/FileStore/2011_10_05.csv</td><td>2011_10_05.csv</td><td>219340</td><td>1670336652000</td></tr><tr><td>dbfs:/FileStore/2011_10_06.csv</td><td>2011_10_06.csv</td><td>285739</td><td>1670336653000</td></tr><tr><td>dbfs:/FileStore/2011_10_07.csv</td><td>2011_10_07.csv</td><td>216893</td><td>1670336654000</td></tr><tr><td>dbfs:/FileStore/2011_10_09.csv</td><td>2011_10_09.csv</td><td>118425</td><td>1670336654000</td></tr><tr><td>dbfs:/FileStore/2011_10_10.csv</td><td>2011_10_10.csv</td><td>289700</td><td>1670336656000</td></tr><tr><td>dbfs:/FileStore/2011_10_11.csv</td><td>2011_10_11.csv</td><td>217528</td><td>1670336656000</td></tr><tr><td>dbfs:/FileStore/2011_10_12.csv</td><td>2011_10_12.csv</td><td>192765</td><td>1670336658000</td></tr><tr><td>dbfs:/FileStore/2011_10_13.csv</td><td>2011_10_13.csv</td><td>209708</td><td>1670336658000</td></tr><tr><td>dbfs:/FileStore/2011_10_14.csv</td><td>2011_10_14.csv</td><td>162184</td><td>1670336659000</td></tr><tr><td>dbfs:/FileStore/2011_10_16.csv</td><td>2011_10_16.csv</td><td>114470</td><td>1670336659000</td></tr><tr><td>dbfs:/FileStore/2011_10_17.csv</td><td>2011_10_17.csv</td><td>261910</td><td>1670336662000</td></tr><tr><td>dbfs:/FileStore/2011_10_18.csv</td><td>2011_10_18.csv</td><td>257244</td><td>1670336661000</td></tr><tr><td>dbfs:/FileStore/2011_10_19.csv</td><td>2011_10_19.csv</td><td>206689</td><td>1670336663000</td></tr><tr><td>dbfs:/FileStore/2011_10_20.csv</td><td>2011_10_20.csv</td><td>212077</td><td>1670336664000</td></tr><tr><td>dbfs:/FileStore/2011_10_21.csv</td><td>2011_10_21.csv</td><td>127547</td><td>1670336665000</td></tr><tr><td>dbfs:/FileStore/2011_10_23.csv</td><td>2011_10_23.csv</td><td>158316</td><td>1670336665000</td></tr><tr><td>dbfs:/FileStore/2011_10_24.csv</td><td>2011_10_24.csv</td><td>263839</td><td>1670336667000</td></tr><tr><td>dbfs:/FileStore/2011_10_25.csv</td><td>2011_10_25.csv</td><td>223947</td><td>1670336667000</td></tr><tr><td>dbfs:/FileStore/2011_10_26.csv</td><td>2011_10_26.csv</td><td>174790</td><td>1670336669000</td></tr><tr><td>dbfs:/FileStore/2011_10_27.csv</td><td>2011_10_27.csv</td><td>228883</td><td>1670336669000</td></tr><tr><td>dbfs:/FileStore/2011_10_28.csv</td><td>2011_10_28.csv</td><td>146761</td><td>1670336670000</td></tr><tr><td>dbfs:/FileStore/2011_10_30.csv</td><td>2011_10_30.csv</td><td>264885</td><td>1670336672000</td></tr><tr><td>dbfs:/FileStore/2011_10_31.csv</td><td>2011_10_31.csv</td><td>298653</td><td>1670336673000</td></tr><tr><td>dbfs:/FileStore/2011_11_01.csv</td><td>2011_11_01.csv</td><td>161872</td><td>1670336673000</td></tr><tr><td>dbfs:/FileStore/2011_11_02.csv</td><td>2011_11_02.csv</td><td>233949</td><td>1670336675000</td></tr><tr><td>dbfs:/FileStore/2011_11_03.csv</td><td>2011_11_03.csv</td><td>216844</td><td>1670336675000</td></tr><tr><td>dbfs:/FileStore/2011_11_04.csv</td><td>2011_11_04.csv</td><td>270087</td><td>1670336678000</td></tr><tr><td>dbfs:/FileStore/2011_11_06.csv</td><td>2011_11_06.csv</td><td>313153</td><td>1670336678000</td></tr><tr><td>dbfs:/FileStore/2011_11_07.csv</td><td>2011_11_07.csv</td><td>188148</td><td>1670336679000</td></tr><tr><td>dbfs:/FileStore/2011_11_08.csv</td><td>2011_11_08.csv</td><td>359329</td><td>1670336681000</td></tr><tr><td>dbfs:/FileStore/2011_11_09.csv</td><td>2011_11_09.csv</td><td>244073</td><td>1670336681000</td></tr><tr><td>dbfs:/FileStore/2011_11_10.csv</td><td>2011_11_10.csv</td><td>295607</td><td>1670336683000</td></tr><tr><td>dbfs:/FileStore/2011_11_11.csv</td><td>2011_11_11.csv</td><td>359019</td><td>1670336684000</td></tr><tr><td>dbfs:/FileStore/2011_11_13.csv</td><td>2011_11_13.csv</td><td>272682</td><td>1670336686000</td></tr><tr><td>dbfs:/FileStore/2011_11_14.csv</td><td>2011_11_14.csv</td><td>322946</td><td>1670336687000</td></tr><tr><td>dbfs:/FileStore/2011_11_15.csv</td><td>2011_11_15.csv</td><td>304442</td><td>1670336688000</td></tr><tr><td>dbfs:/FileStore/2011_11_16.csv</td><td>2011_11_16.csv</td><td>371320</td><td>1670336692000</td></tr><tr><td>dbfs:/FileStore/2011_11_17.csv</td><td>2011_11_17.csv</td><td>321770</td><td>1670336692000</td></tr><tr><td>dbfs:/FileStore/2011_11_18.csv</td><td>2011_11_18.csv</td><td>258456</td><td>1670336694000</td></tr><tr><td>dbfs:/FileStore/2011_11_20.csv</td><td>2011_11_20.csv</td><td>302441</td><td>1670336695000</td></tr><tr><td>dbfs:/FileStore/2011_11_21.csv</td><td>2011_11_21.csv</td><td>262095</td><td>1670336696000</td></tr><tr><td>dbfs:/FileStore/2011_11_22.csv</td><td>2011_11_22.csv</td><td>351999</td><td>1670336698000</td></tr><tr><td>dbfs:/FileStore/2011_11_23.csv</td><td>2011_11_23.csv</td><td>327359</td><td>1670336699000</td></tr><tr><td>dbfs:/FileStore/2011_11_24.csv</td><td>2011_11_24.csv</td><td>331824</td><td>1670336701000</td></tr><tr><td>dbfs:/FileStore/2011_11_25.csv</td><td>2011_11_25.csv</td><td>273837</td><td>1670336702000</td></tr><tr><td>dbfs:/FileStore/2011_11_27.csv</td><td>2011_11_27.csv</td><td>230974</td><td>1670336703000</td></tr><tr><td>dbfs:/FileStore/2011_11_28.csv</td><td>2011_11_28.csv</td><td>297785</td><td>1670336705000</td></tr><tr><td>dbfs:/FileStore/2011_11_29.csv</td><td>2011_11_29.csv</td><td>381332</td><td>1670336706000</td></tr><tr><td>dbfs:/FileStore/2011_11_30.csv</td><td>2011_11_30.csv</td><td>303485</td><td>1670336707000</td></tr><tr><td>dbfs:/FileStore/2011_12_01.csv</td><td>2011_12_01.csv</td><td>259173</td><td>1670336708000</td></tr><tr><td>dbfs:/FileStore/2011_12_02.csv</td><td>2011_12_02.csv</td><td>254858</td><td>1670336709000</td></tr><tr><td>dbfs:/FileStore/2011_12_04.csv</td><td>2011_12_04.csv</td><td>184959</td><td>1670336710000</td></tr><tr><td>dbfs:/FileStore/2011_12_05.csv</td><td>2011_12_05.csv</td><td>472154</td><td>1670336714000</td></tr><tr><td>dbfs:/FileStore/2011_12_06.csv</td><td>2011_12_06.csv</td><td>300750</td><td>1670336713000</td></tr><tr><td>dbfs:/FileStore/2011_12_07.csv</td><td>2011_12_07.csv</td><td>217714</td><td>1670336715000</td></tr><tr><td>dbfs:/FileStore/2011_12_08.csv</td><td>2011_12_08.csv</td><td>432962</td><td>1670336719000</td></tr><tr><td>dbfs:/FileStore/2011_12_09.csv</td><td>2011_12_09.csv</td><td>140637</td><td>1670336717000</td></tr><tr><td>dbfs:/FileStore/2011_summary.csv</td><td>2011_summary.csv</td><td>7069</td><td>1670336632000</td></tr><tr><td>dbfs:/FileStore/2011_summary.json</td><td>2011_summary.json</td><td>21301</td><td>1670336657000</td></tr><tr><td>dbfs:/FileStore/2012_summary.csv</td><td>2012_summary.csv</td><td>6857</td><td>1670336633000</td></tr><tr><td>dbfs:/FileStore/2012_summary.json</td><td>2012_summary.json</td><td>20529</td><td>1670336657000</td></tr><tr><td>dbfs:/FileStore/2013_summary.csv</td><td>2013_summary.csv</td><td>7020</td><td>1670336633000</td></tr><tr><td>dbfs:/FileStore/2013_summary.json</td><td>2013_summary.json</td><td>20968</td><td>1670336657000</td></tr><tr><td>dbfs:/FileStore/2014_summary.csv</td><td>2014_summary.csv</td><td>6729</td><td>1670336634000</td></tr><tr><td>dbfs:/FileStore/2014_summary.json</td><td>2014_summary.json</td><td>20177</td><td>1670336658000</td></tr><tr><td>dbfs:/FileStore/201508_station_data.csv</td><td>201508_station_data.csv</td><td>5272</td><td>1670336727000</td></tr><tr><td>dbfs:/FileStore/2015_summary.csv</td><td>2015_summary.csv</td><td>7080</td><td>1670336634000</td></tr><tr><td>dbfs:/FileStore/2015_summary.json</td><td>2015_summary.json</td><td>21368</td><td>1670336658000</td></tr><tr><td>dbfs:/FileStore/BooksDataset.csv</td><td>BooksDataset.csv</td><td>69747726</td><td>1703159982000</td></tr><tr><td>dbfs:/FileStore/PysparkRaveendra_master.zip</td><td>PysparkRaveendra_master.zip</td><td>91639787</td><td>1702316278000</td></tr><tr><td>dbfs:/FileStore/archive.zip</td><td>archive.zip</td><td>7295</td><td>1703159434000</td></tr><tr><td>dbfs:/FileStore/categories.csv</td><td>categories.csv</td><td>1085</td><td>1668940109000</td></tr><tr><td>dbfs:/FileStore/customers.csv</td><td>customers.csv</td><td>966154</td><td>1668940081000</td></tr><tr><td>dbfs:/FileStore/employee.csv</td><td>employee.csv</td><td>8653</td><td>1669109226000</td></tr><tr><td>dbfs:/FileStore/example.csv</td><td>example.csv</td><td>4208</td><td>1668941185000</td></tr><tr><td>dbfs:/FileStore/flight.csv</td><td>flight.csv</td><td>43157</td><td>1669109275000</td></tr><tr><td>dbfs:/FileStore/greetings.txt</td><td>greetings.txt</td><td>68</td><td>1703178100000</td></tr><tr><td>dbfs:/FileStore/import-stage/</td><td>import-stage/</td><td>0</td><td>0</td></tr><tr><td>dbfs:/FileStore/iris.csv</td><td>iris.csv</td><td>3975</td><td>1669109294000</td></tr><tr><td>dbfs:/FileStore/muliti_delimiter.csv</td><td>muliti_delimiter.csv</td><td>85</td><td>1703150542000</td></tr><tr><td>dbfs:/FileStore/online_retail_dataset-1.csv</td><td>online_retail_dataset-1.csv</td><td>45038760</td><td>1670336445000</td></tr><tr><td>dbfs:/FileStore/online_retail_dataset.csv</td><td>online_retail_dataset.csv</td><td>45038760</td><td>1670336434000</td></tr><tr><td>dbfs:/FileStore/order_items.csv</td><td>order_items.csv</td><td>5581078</td><td>1668940257000</td></tr><tr><td>dbfs:/FileStore/orders.csv</td><td>orders.csv</td><td>3068825</td><td>1668934394000</td></tr><tr><td>dbfs:/FileStore/products.csv</td><td>products.csv</td><td>175500</td><td>1668940161000</td></tr><tr><td>dbfs:/FileStore/small_zipcode.csv</td><td>small_zipcode.csv</td><td>190</td><td>1703322907000</td></tr><tr><td>dbfs:/FileStore/tables/</td><td>tables/</td><td>0</td><td>0</td></tr><tr><td>dbfs:/FileStore/zipcodes.csv</td><td>zipcodes.csv</td><td>3057</td><td>1703321737000</td></tr></tbody></table></div>"
      ]
     },
     "metadata": {
      "application/vnd.databricks.v1+output": {
       "addedWidgets": {},
       "aggData": [],
       "aggError": "",
       "aggOverflow": false,
       "aggSchema": [],
       "aggSeriesLimitReached": false,
       "aggType": "",
       "arguments": {},
       "columnCustomDisplayInfos": {},
       "data": [
        [
         "dbfs:/FileStore/2010_12_01.csv",
         "2010_12_01.csv",
         275001,
         1670336474000
        ],
        [
         "dbfs:/FileStore/2010_12_02.csv",
         "2010_12_02.csv",
         191826,
         1670336473000
        ],
        [
         "dbfs:/FileStore/2010_12_03.csv",
         "2010_12_03.csv",
         190700,
         1670336475000
        ],
        [
         "dbfs:/FileStore/2010_12_05.csv",
         "2010_12_05.csv",
         246056,
         1670336476000
        ],
        [
         "dbfs:/FileStore/2010_12_06.csv",
         "2010_12_06.csv",
         339039,
         1670336478000
        ],
        [
         "dbfs:/FileStore/2010_12_07.csv",
         "2010_12_07.csv",
         255832,
         1670336478000
        ],
        [
         "dbfs:/FileStore/2010_12_08.csv",
         "2010_12_08.csv",
         235974,
         1670336480000
        ],
        [
         "dbfs:/FileStore/2010_12_09.csv",
         "2010_12_09.csv",
         252904,
         1670336481000
        ],
        [
         "dbfs:/FileStore/2010_12_10.csv",
         "2010_12_10.csv",
         241468,
         1670336482000
        ],
        [
         "dbfs:/FileStore/2010_12_12.csv",
         "2010_12_12.csv",
         132120,
         1670336482000
        ],
        [
         "dbfs:/FileStore/2010_12_13.csv",
         "2010_12_13.csv",
         202021,
         1670336484000
        ],
        [
         "dbfs:/FileStore/2010_12_14.csv",
         "2010_12_14.csv",
         186685,
         1670336484000
        ],
        [
         "dbfs:/FileStore/2010_12_15.csv",
         "2010_12_15.csv",
         122496,
         1670336485000
        ],
        [
         "dbfs:/FileStore/2010_12_16.csv",
         "2010_12_16.csv",
         163452,
         1670336486000
        ],
        [
         "dbfs:/FileStore/2010_12_17.csv",
         "2010_12_17.csv",
         264944,
         1670336488000
        ],
        [
         "dbfs:/FileStore/2010_12_19.csv",
         "2010_12_19.csv",
         47264,
         1670336486000
        ],
        [
         "dbfs:/FileStore/2010_12_20.csv",
         "2010_12_20.csv",
         153561,
         1670336488000
        ],
        [
         "dbfs:/FileStore/2010_12_21.csv",
         "2010_12_21.csv",
         134904,
         1670336489000
        ],
        [
         "dbfs:/FileStore/2010_12_22.csv",
         "2010_12_22.csv",
         25836,
         1670336489000
        ],
        [
         "dbfs:/FileStore/2010_12_23.csv",
         "2010_12_23.csv",
         83192,
         1670336490000
        ],
        [
         "dbfs:/FileStore/2010_summary.csv",
         "2010_summary.csv",
         7121,
         1670336632000
        ],
        [
         "dbfs:/FileStore/2010_summary.json",
         "2010_summary.json",
         21353,
         1670336657000
        ],
        [
         "dbfs:/FileStore/2011_01_04.csv",
         "2011_01_04.csv",
         104656,
         1670336490000
        ],
        [
         "dbfs:/FileStore/2011_01_05.csv",
         "2011_01_05.csv",
         153733,
         1670336491000
        ],
        [
         "dbfs:/FileStore/2011_01_06.csv",
         "2011_01_06.csv",
         162100,
         1670336492000
        ],
        [
         "dbfs:/FileStore/2011_01_07.csv",
         "2011_01_07.csv",
         155938,
         1670336493000
        ],
        [
         "dbfs:/FileStore/2011_01_09.csv",
         "2011_01_09.csv",
         101317,
         1670336493000
        ],
        [
         "dbfs:/FileStore/2011_01_10.csv",
         "2011_01_10.csv",
         170418,
         1670336494000
        ],
        [
         "dbfs:/FileStore/2011_01_11.csv",
         "2011_01_11.csv",
         127847,
         1670336494000
        ],
        [
         "dbfs:/FileStore/2011_01_12.csv",
         "2011_01_12.csv",
         158187,
         1670336496000
        ],
        [
         "dbfs:/FileStore/2011_01_13.csv",
         "2011_01_13.csv",
         126109,
         1670336496000
        ],
        [
         "dbfs:/FileStore/2011_01_14.csv",
         "2011_01_14.csv",
         131086,
         1670336497000
        ],
        [
         "dbfs:/FileStore/2011_01_16.csv",
         "2011_01_16.csv",
         58906,
         1670336497000
        ],
        [
         "dbfs:/FileStore/2011_01_17.csv",
         "2011_01_17.csv",
         221821,
         1670336499000
        ],
        [
         "dbfs:/FileStore/2011_01_18.csv",
         "2011_01_18.csv",
         124711,
         1670336499000
        ],
        [
         "dbfs:/FileStore/2011_01_19.csv",
         "2011_01_19.csv",
         124865,
         1670336500000
        ],
        [
         "dbfs:/FileStore/2011_01_20.csv",
         "2011_01_20.csv",
         130157,
         1670336501000
        ],
        [
         "dbfs:/FileStore/2011_01_21.csv",
         "2011_01_21.csv",
         139157,
         1670336502000
        ],
        [
         "dbfs:/FileStore/2011_01_23.csv",
         "2011_01_23.csv",
         80012,
         1670336502000
        ],
        [
         "dbfs:/FileStore/2011_01_24.csv",
         "2011_01_24.csv",
         128813,
         1670336503000
        ],
        [
         "dbfs:/FileStore/2011_01_25.csv",
         "2011_01_25.csv",
         146739,
         1670336503000
        ],
        [
         "dbfs:/FileStore/2011_01_26.csv",
         "2011_01_26.csv",
         113985,
         1670336504000
        ],
        [
         "dbfs:/FileStore/2011_01_27.csv",
         "2011_01_27.csv",
         140033,
         1670336505000
        ],
        [
         "dbfs:/FileStore/2011_01_28.csv",
         "2011_01_28.csv",
         87450,
         1670336505000
        ],
        [
         "dbfs:/FileStore/2011_01_30.csv",
         "2011_01_30.csv",
         66171,
         1670336506000
        ],
        [
         "dbfs:/FileStore/2011_01_31.csv",
         "2011_01_31.csv",
         132774,
         1670336507000
        ],
        [
         "dbfs:/FileStore/2011_02_01.csv",
         "2011_02_01.csv",
         139954,
         1670336507000
        ],
        [
         "dbfs:/FileStore/2011_02_02.csv",
         "2011_02_02.csv",
         124794,
         1670336508000
        ],
        [
         "dbfs:/FileStore/2011_02_03.csv",
         "2011_02_03.csv",
         87779,
         1670336508000
        ],
        [
         "dbfs:/FileStore/2011_02_04.csv",
         "2011_02_04.csv",
         107014,
         1670336509000
        ],
        [
         "dbfs:/FileStore/2011_02_06.csv",
         "2011_02_06.csv",
         25516,
         1670336509000
        ],
        [
         "dbfs:/FileStore/2011_02_07.csv",
         "2011_02_07.csv",
         111980,
         1670336510000
        ],
        [
         "dbfs:/FileStore/2011_02_08.csv",
         "2011_02_08.csv",
         107136,
         1670336510000
        ],
        [
         "dbfs:/FileStore/2011_02_09.csv",
         "2011_02_09.csv",
         75999,
         1670336511000
        ],
        [
         "dbfs:/FileStore/2011_02_10.csv",
         "2011_02_10.csv",
         70942,
         1670336511000
        ],
        [
         "dbfs:/FileStore/2011_02_11.csv",
         "2011_02_11.csv",
         83807,
         1670336512000
        ],
        [
         "dbfs:/FileStore/2011_02_13.csv",
         "2011_02_13.csv",
         57098,
         1670336512000
        ],
        [
         "dbfs:/FileStore/2011_02_14.csv",
         "2011_02_14.csv",
         97341,
         1670336513000
        ],
        [
         "dbfs:/FileStore/2011_02_15.csv",
         "2011_02_15.csv",
         117745,
         1670336514000
        ],
        [
         "dbfs:/FileStore/2011_02_16.csv",
         "2011_02_16.csv",
         106100,
         1670336514000
        ],
        [
         "dbfs:/FileStore/2011_02_17.csv",
         "2011_02_17.csv",
         150882,
         1670336515000
        ],
        [
         "dbfs:/FileStore/2011_02_18.csv",
         "2011_02_18.csv",
         75633,
         1670336516000
        ],
        [
         "dbfs:/FileStore/2011_02_20.csv",
         "2011_02_20.csv",
         78068,
         1670336516000
        ],
        [
         "dbfs:/FileStore/2011_02_21.csv",
         "2011_02_21.csv",
         124088,
         1670336517000
        ],
        [
         "dbfs:/FileStore/2011_02_22.csv",
         "2011_02_22.csv",
         142089,
         1670336518000
        ],
        [
         "dbfs:/FileStore/2011_02_23.csv",
         "2011_02_23.csv",
         138337,
         1670336518000
        ],
        [
         "dbfs:/FileStore/2011_02_24.csv",
         "2011_02_24.csv",
         116769,
         1670336519000
        ],
        [
         "dbfs:/FileStore/2011_02_25.csv",
         "2011_02_25.csv",
         87507,
         1670336520000
        ],
        [
         "dbfs:/FileStore/2011_02_27.csv",
         "2011_02_27.csv",
         74111,
         1670336520000
        ],
        [
         "dbfs:/FileStore/2011_02_28.csv",
         "2011_02_28.csv",
         151947,
         1670336521000
        ],
        [
         "dbfs:/FileStore/2011_03_01.csv",
         "2011_03_01.csv",
         119793,
         1670336522000
        ],
        [
         "dbfs:/FileStore/2011_03_02.csv",
         "2011_03_02.csv",
         85302,
         1670336522000
        ],
        [
         "dbfs:/FileStore/2011_03_03.csv",
         "2011_03_03.csv",
         122010,
         1670336524000
        ],
        [
         "dbfs:/FileStore/2011_03_04.csv",
         "2011_03_04.csv",
         97942,
         1670336524000
        ],
        [
         "dbfs:/FileStore/2011_03_06.csv",
         "2011_03_06.csv",
         76977,
         1670336525000
        ],
        [
         "dbfs:/FileStore/2011_03_07.csv",
         "2011_03_07.csv",
         172784,
         1670336526000
        ],
        [
         "dbfs:/FileStore/2011_03_08.csv",
         "2011_03_08.csv",
         141880,
         1670336526000
        ],
        [
         "dbfs:/FileStore/2011_03_09.csv",
         "2011_03_09.csv",
         113715,
         1670336527000
        ],
        [
         "dbfs:/FileStore/2011_03_10.csv",
         "2011_03_10.csv",
         100881,
         1670336527000
        ],
        [
         "dbfs:/FileStore/2011_03_11.csv",
         "2011_03_11.csv",
         84393,
         1670336528000
        ],
        [
         "dbfs:/FileStore/2011_03_13.csv",
         "2011_03_13.csv",
         48917,
         1670336528000
        ],
        [
         "dbfs:/FileStore/2011_03_14.csv",
         "2011_03_14.csv",
         99595,
         1670336529000
        ],
        [
         "dbfs:/FileStore/2011_03_15.csv",
         "2011_03_15.csv",
         112853,
         1670336529000
        ],
        [
         "dbfs:/FileStore/2011_03_16.csv",
         "2011_03_16.csv",
         78923,
         1670336530000
        ],
        [
         "dbfs:/FileStore/2011_03_17.csv",
         "2011_03_17.csv",
         180245,
         1670336531000
        ],
        [
         "dbfs:/FileStore/2011_03_18.csv",
         "2011_03_18.csv",
         122082,
         1670336532000
        ],
        [
         "dbfs:/FileStore/2011_03_20.csv",
         "2011_03_20.csv",
         130096,
         1670336533000
        ],
        [
         "dbfs:/FileStore/2011_03_21.csv",
         "2011_03_21.csv",
         96588,
         1670336533000
        ],
        [
         "dbfs:/FileStore/2011_03_22.csv",
         "2011_03_22.csv",
         206516,
         1670336535000
        ],
        [
         "dbfs:/FileStore/2011_03_23.csv",
         "2011_03_23.csv",
         116861,
         1670336535000
        ],
        [
         "dbfs:/FileStore/2011_03_24.csv",
         "2011_03_24.csv",
         141988,
         1670336536000
        ],
        [
         "dbfs:/FileStore/2011_03_25.csv",
         "2011_03_25.csv",
         122156,
         1670336536000
        ],
        [
         "dbfs:/FileStore/2011_03_27.csv",
         "2011_03_27.csv",
         67786,
         1670336537000
        ],
        [
         "dbfs:/FileStore/2011_03_28.csv",
         "2011_03_28.csv",
         147212,
         1670336538000
        ],
        [
         "dbfs:/FileStore/2011_03_29.csv",
         "2011_03_29.csv",
         173104,
         1670336539000
        ],
        [
         "dbfs:/FileStore/2011_03_30.csv",
         "2011_03_30.csv",
         141435,
         1670336540000
        ],
        [
         "dbfs:/FileStore/2011_03_31.csv",
         "2011_03_31.csv",
         152420,
         1670336541000
        ],
        [
         "dbfs:/FileStore/2011_04_01.csv",
         "2011_04_01.csv",
         112493,
         1670336541000
        ],
        [
         "dbfs:/FileStore/2011_04_03.csv",
         "2011_04_03.csv",
         66518,
         1670336542000
        ],
        [
         "dbfs:/FileStore/2011_04_04.csv",
         "2011_04_04.csv",
         150711,
         1670336542000
        ],
        [
         "dbfs:/FileStore/2011_04_05.csv",
         "2011_04_05.csv",
         107560,
         1670336543000
        ],
        [
         "dbfs:/FileStore/2011_04_06.csv",
         "2011_04_06.csv",
         98068,
         1670336544000
        ],
        [
         "dbfs:/FileStore/2011_04_07.csv",
         "2011_04_07.csv",
         136252,
         1670336544000
        ],
        [
         "dbfs:/FileStore/2011_04_08.csv",
         "2011_04_08.csv",
         125969,
         1670336545000
        ],
        [
         "dbfs:/FileStore/2011_04_10.csv",
         "2011_04_10.csv",
         85637,
         1670336546000
        ],
        [
         "dbfs:/FileStore/2011_04_11.csv",
         "2011_04_11.csv",
         112516,
         1670336546000
        ],
        [
         "dbfs:/FileStore/2011_04_12.csv",
         "2011_04_12.csv",
         104116,
         1670336547000
        ],
        [
         "dbfs:/FileStore/2011_04_13.csv",
         "2011_04_13.csv",
         95007,
         1670336547000
        ],
        [
         "dbfs:/FileStore/2011_04_14.csv",
         "2011_04_14.csv",
         144236,
         1670336548000
        ],
        [
         "dbfs:/FileStore/2011_04_15.csv",
         "2011_04_15.csv",
         128980,
         1670336549000
        ],
        [
         "dbfs:/FileStore/2011_04_17.csv",
         "2011_04_17.csv",
         87658,
         1670336549000
        ],
        [
         "dbfs:/FileStore/2011_04_18.csv",
         "2011_04_18.csv",
         280118,
         1670336552000
        ],
        [
         "dbfs:/FileStore/2011_04_19.csv",
         "2011_04_19.csv",
         165965,
         1670336551000
        ],
        [
         "dbfs:/FileStore/2011_04_20.csv",
         "2011_04_20.csv",
         91865,
         1670336553000
        ],
        [
         "dbfs:/FileStore/2011_04_21.csv",
         "2011_04_21.csv",
         170023,
         1670336554000
        ],
        [
         "dbfs:/FileStore/2011_04_26.csv",
         "2011_04_26.csv",
         167480,
         1670336554000
        ],
        [
         "dbfs:/FileStore/2011_04_27.csv",
         "2011_04_27.csv",
         116613,
         1670336555000
        ],
        [
         "dbfs:/FileStore/2011_04_28.csv",
         "2011_04_28.csv",
         106481,
         1670336556000
        ],
        [
         "dbfs:/FileStore/2011_05_01.csv",
         "2011_05_01.csv",
         40884,
         1670336556000
        ],
        [
         "dbfs:/FileStore/2011_05_03.csv",
         "2011_05_03.csv",
         126563,
         1670336557000
        ],
        [
         "dbfs:/FileStore/2011_05_04.csv",
         "2011_05_04.csv",
         105162,
         1670336557000
        ],
        [
         "dbfs:/FileStore/2011_05_05.csv",
         "2011_05_05.csv",
         162318,
         1670336558000
        ],
        [
         "dbfs:/FileStore/2011_05_06.csv",
         "2011_05_06.csv",
         180297,
         1670336559000
        ],
        [
         "dbfs:/FileStore/2011_05_08.csv",
         "2011_05_08.csv",
         136006,
         1670336560000
        ],
        [
         "dbfs:/FileStore/2011_05_09.csv",
         "2011_05_09.csv",
         154043,
         1670336560000
        ],
        [
         "dbfs:/FileStore/2011_05_10.csv",
         "2011_05_10.csv",
         224383,
         1670336562000
        ],
        [
         "dbfs:/FileStore/2011_05_11.csv",
         "2011_05_11.csv",
         151121,
         1670336562000
        ],
        [
         "dbfs:/FileStore/2011_05_12.csv",
         "2011_05_12.csv",
         175096,
         1670336564000
        ],
        [
         "dbfs:/FileStore/2011_05_13.csv",
         "2011_05_13.csv",
         125524,
         1670336564000
        ],
        [
         "dbfs:/FileStore/2011_05_15.csv",
         "2011_05_15.csv",
         73038,
         1670336565000
        ],
        [
         "dbfs:/FileStore/2011_05_16.csv",
         "2011_05_16.csv",
         140801,
         1670336565000
        ],
        [
         "dbfs:/FileStore/2011_05_17.csv",
         "2011_05_17.csv",
         168847,
         1670336567000
        ],
        [
         "dbfs:/FileStore/2011_05_18.csv",
         "2011_05_18.csv",
         121774,
         1670336567000
        ],
        [
         "dbfs:/FileStore/2011_05_19.csv",
         "2011_05_19.csv",
         172737,
         1670336568000
        ],
        [
         "dbfs:/FileStore/2011_05_20.csv",
         "2011_05_20.csv",
         100198,
         1670336568000
        ],
        [
         "dbfs:/FileStore/2011_05_22.csv",
         "2011_05_22.csv",
         141114,
         1670336569000
        ],
        [
         "dbfs:/FileStore/2011_05_23.csv",
         "2011_05_23.csv",
         144869,
         1670336570000
        ],
        [
         "dbfs:/FileStore/2011_05_24.csv",
         "2011_05_24.csv",
         153615,
         1670336571000
        ],
        [
         "dbfs:/FileStore/2011_05_25.csv",
         "2011_05_25.csv",
         116151,
         1670336571000
        ],
        [
         "dbfs:/FileStore/2011_05_26.csv",
         "2011_05_26.csv",
         86137,
         1670336572000
        ],
        [
         "dbfs:/FileStore/2011_05_27.csv",
         "2011_05_27.csv",
         103064,
         1670336572000
        ],
        [
         "dbfs:/FileStore/2011_05_29.csv",
         "2011_05_29.csv",
         57243,
         1670336572000
        ],
        [
         "dbfs:/FileStore/2011_05_31.csv",
         "2011_05_31.csv",
         112113,
         1670336573000
        ],
        [
         "dbfs:/FileStore/2011_06_01.csv",
         "2011_06_01.csv",
         126676,
         1670336573000
        ],
        [
         "dbfs:/FileStore/2011_06_02.csv",
         "2011_06_02.csv",
         139233,
         1670336575000
        ],
        [
         "dbfs:/FileStore/2011_06_03.csv",
         "2011_06_03.csv",
         75454,
         1670336574000
        ],
        [
         "dbfs:/FileStore/2011_06_05.csv",
         "2011_06_05.csv",
         140061,
         1670336576000
        ],
        [
         "dbfs:/FileStore/2011_06_06.csv",
         "2011_06_06.csv",
         109829,
         1670336576000
        ],
        [
         "dbfs:/FileStore/2011_06_07.csv",
         "2011_06_07.csv",
         171241,
         1670336577000
        ],
        [
         "dbfs:/FileStore/2011_06_08.csv",
         "2011_06_08.csv",
         203086,
         1670336577000
        ],
        [
         "dbfs:/FileStore/2011_06_09.csv",
         "2011_06_09.csv",
         162227,
         1670336579000
        ],
        [
         "dbfs:/FileStore/2011_06_10.csv",
         "2011_06_10.csv",
         93701,
         1670336578000
        ],
        [
         "dbfs:/FileStore/2011_06_12.csv",
         "2011_06_12.csv",
         97835,
         1670336579000
        ],
        [
         "dbfs:/FileStore/2011_06_13.csv",
         "2011_06_13.csv",
         129767,
         1670336580000
        ],
        [
         "dbfs:/FileStore/2011_06_14.csv",
         "2011_06_14.csv",
         140214,
         1670336581000
        ],
        [
         "dbfs:/FileStore/2011_06_15.csv",
         "2011_06_15.csv",
         151127,
         1670336581000
        ],
        [
         "dbfs:/FileStore/2011_06_16.csv",
         "2011_06_16.csv",
         136339,
         1670336582000
        ],
        [
         "dbfs:/FileStore/2011_06_17.csv",
         "2011_06_17.csv",
         85739,
         1670336583000
        ],
        [
         "dbfs:/FileStore/2011_06_19.csv",
         "2011_06_19.csv",
         105190,
         1670336583000
        ],
        [
         "dbfs:/FileStore/2011_06_20.csv",
         "2011_06_20.csv",
         175539,
         1670336584000
        ],
        [
         "dbfs:/FileStore/2011_06_21.csv",
         "2011_06_21.csv",
         134322,
         1670336585000
        ],
        [
         "dbfs:/FileStore/2011_06_22.csv",
         "2011_06_22.csv",
         91369,
         1670336585000
        ],
        [
         "dbfs:/FileStore/2011_06_23.csv",
         "2011_06_23.csv",
         175463,
         1670336587000
        ],
        [
         "dbfs:/FileStore/2011_06_24.csv",
         "2011_06_24.csv",
         91308,
         1670336587000
        ],
        [
         "dbfs:/FileStore/2011_06_26.csv",
         "2011_06_26.csv",
         64579,
         1670336587000
        ],
        [
         "dbfs:/FileStore/2011_06_27.csv",
         "2011_06_27.csv",
         104370,
         1670336588000
        ],
        [
         "dbfs:/FileStore/2011_06_28.csv",
         "2011_06_28.csv",
         92153,
         1670336588000
        ],
        [
         "dbfs:/FileStore/2011_06_29.csv",
         "2011_06_29.csv",
         117488,
         1670336589000
        ],
        [
         "dbfs:/FileStore/2011_06_30.csv",
         "2011_06_30.csv",
         143253,
         1670336590000
        ],
        [
         "dbfs:/FileStore/2011_07_01.csv",
         "2011_07_01.csv",
         90752,
         1670336590000
        ],
        [
         "dbfs:/FileStore/2011_07_03.csv",
         "2011_07_03.csv",
         54798,
         1670336590000
        ],
        [
         "dbfs:/FileStore/2011_07_04.csv",
         "2011_07_04.csv",
         189204,
         1670336592000
        ],
        [
         "dbfs:/FileStore/2011_07_05.csv",
         "2011_07_05.csv",
         189831,
         1670336592000
        ],
        [
         "dbfs:/FileStore/2011_07_06.csv",
         "2011_07_06.csv",
         159436,
         1670336594000
        ],
        [
         "dbfs:/FileStore/2011_07_07.csv",
         "2011_07_07.csv",
         171634,
         1670336594000
        ],
        [
         "dbfs:/FileStore/2011_07_08.csv",
         "2011_07_08.csv",
         140138,
         1670336595000
        ],
        [
         "dbfs:/FileStore/2011_07_10.csv",
         "2011_07_10.csv",
         74191,
         1670336595000
        ],
        [
         "dbfs:/FileStore/2011_07_11.csv",
         "2011_07_11.csv",
         133475,
         1670336597000
        ],
        [
         "dbfs:/FileStore/2011_07_12.csv",
         "2011_07_12.csv",
         144196,
         1670336597000
        ],
        [
         "dbfs:/FileStore/2011_07_13.csv",
         "2011_07_13.csv",
         144027,
         1670336598000
        ],
        [
         "dbfs:/FileStore/2011_07_14.csv",
         "2011_07_14.csv",
         153670,
         1670336599000
        ],
        [
         "dbfs:/FileStore/2011_07_15.csv",
         "2011_07_15.csv",
         99926,
         1670336599000
        ],
        [
         "dbfs:/FileStore/2011_07_17.csv",
         "2011_07_17.csv",
         112983,
         1670336600000
        ],
        [
         "dbfs:/FileStore/2011_07_18.csv",
         "2011_07_18.csv",
         194171,
         1670336601000
        ],
        [
         "dbfs:/FileStore/2011_07_19.csv",
         "2011_07_19.csv",
         147143,
         1670336601000
        ],
        [
         "dbfs:/FileStore/2011_07_20.csv",
         "2011_07_20.csv",
         177416,
         1670336603000
        ],
        [
         "dbfs:/FileStore/2011_07_21.csv",
         "2011_07_21.csv",
         140592,
         1670336602000
        ],
        [
         "dbfs:/FileStore/2011_07_22.csv",
         "2011_07_22.csv",
         113759,
         1670336604000
        ],
        [
         "dbfs:/FileStore/2011_07_24.csv",
         "2011_07_24.csv",
         101031,
         1670336604000
        ],
        [
         "dbfs:/FileStore/2011_07_25.csv",
         "2011_07_25.csv",
         170093,
         1670336605000
        ],
        [
         "dbfs:/FileStore/2011_07_26.csv",
         "2011_07_26.csv",
         112780,
         1670336605000
        ],
        [
         "dbfs:/FileStore/2011_07_27.csv",
         "2011_07_27.csv",
         109514,
         1670336606000
        ],
        [
         "dbfs:/FileStore/2011_07_28.csv",
         "2011_07_28.csv",
         138826,
         1670336607000
        ],
        [
         "dbfs:/FileStore/2011_07_29.csv",
         "2011_07_29.csv",
         101094,
         1670336607000
        ],
        [
         "dbfs:/FileStore/2011_07_31.csv",
         "2011_07_31.csv",
         114650,
         1670336608000
        ],
        [
         "dbfs:/FileStore/2011_08_01.csv",
         "2011_08_01.csv",
         107491,
         1670336608000
        ],
        [
         "dbfs:/FileStore/2011_08_02.csv",
         "2011_08_02.csv",
         120138,
         1670336609000
        ],
        [
         "dbfs:/FileStore/2011_08_03.csv",
         "2011_08_03.csv",
         140576,
         1670336610000
        ],
        [
         "dbfs:/FileStore/2011_08_04.csv",
         "2011_08_04.csv",
         162548,
         1670336611000
        ],
        [
         "dbfs:/FileStore/2011_08_05.csv",
         "2011_08_05.csv",
         127923,
         1670336611000
        ],
        [
         "dbfs:/FileStore/2011_08_07.csv",
         "2011_08_07.csv",
         49245,
         1670336612000
        ],
        [
         "dbfs:/FileStore/2011_08_08.csv",
         "2011_08_08.csv",
         131650,
         1670336612000
        ],
        [
         "dbfs:/FileStore/2011_08_09.csv",
         "2011_08_09.csv",
         100002,
         1670336613000
        ],
        [
         "dbfs:/FileStore/2011_08_10.csv",
         "2011_08_10.csv",
         120046,
         1670336614000
        ],
        [
         "dbfs:/FileStore/2011_08_11.csv",
         "2011_08_11.csv",
         175951,
         1670336614000
        ],
        [
         "dbfs:/FileStore/2011_08_12.csv",
         "2011_08_12.csv",
         97516,
         1670336615000
        ],
        [
         "dbfs:/FileStore/2011_08_14.csv",
         "2011_08_14.csv",
         50684,
         1670336615000
        ],
        [
         "dbfs:/FileStore/2011_08_15.csv",
         "2011_08_15.csv",
         82959,
         1670336616000
        ],
        [
         "dbfs:/FileStore/2011_08_16.csv",
         "2011_08_16.csv",
         92486,
         1670336616000
        ],
        [
         "dbfs:/FileStore/2011_08_17.csv",
         "2011_08_17.csv",
         148605,
         1670336617000
        ],
        [
         "dbfs:/FileStore/2011_08_18.csv",
         "2011_08_18.csv",
         137689,
         1670336617000
        ],
        [
         "dbfs:/FileStore/2011_08_19.csv",
         "2011_08_19.csv",
         72940,
         1670336619000
        ],
        [
         "dbfs:/FileStore/2011_08_21.csv",
         "2011_08_21.csv",
         97031,
         1670336619000
        ],
        [
         "dbfs:/FileStore/2011_08_22.csv",
         "2011_08_22.csv",
         114812,
         1670336620000
        ],
        [
         "dbfs:/FileStore/2011_08_23.csv",
         "2011_08_23.csv",
         130326,
         1670336620000
        ],
        [
         "dbfs:/FileStore/2011_08_24.csv",
         "2011_08_24.csv",
         167436,
         1670336622000
        ],
        [
         "dbfs:/FileStore/2011_08_25.csv",
         "2011_08_25.csv",
         118982,
         1670336622000
        ],
        [
         "dbfs:/FileStore/2011_08_26.csv",
         "2011_08_26.csv",
         82531,
         1670336623000
        ],
        [
         "dbfs:/FileStore/2011_08_28.csv",
         "2011_08_28.csv",
         107760,
         1670336623000
        ],
        [
         "dbfs:/FileStore/2011_08_30.csv",
         "2011_08_30.csv",
         274692,
         1670336625000
        ],
        [
         "dbfs:/FileStore/2011_08_31.csv",
         "2011_08_31.csv",
         113373,
         1670336624000
        ],
        [
         "dbfs:/FileStore/2011_09_01.csv",
         "2011_09_01.csv",
         127664,
         1670336626000
        ],
        [
         "dbfs:/FileStore/2011_09_02.csv",
         "2011_09_02.csv",
         205036,
         1670336627000
        ],
        [
         "dbfs:/FileStore/2011_09_04.csv",
         "2011_09_04.csv",
         120645,
         1670336627000
        ],
        [
         "dbfs:/FileStore/2011_09_05.csv",
         "2011_09_05.csv",
         141625,
         1670336629000
        ],
        [
         "dbfs:/FileStore/2011_09_06.csv",
         "2011_09_06.csv",
         102669,
         1670336628000
        ],
        [
         "dbfs:/FileStore/2011_09_07.csv",
         "2011_09_07.csv",
         181656,
         1670336630000
        ],
        [
         "dbfs:/FileStore/2011_09_08.csv",
         "2011_09_08.csv",
         156826,
         1670336630000
        ],
        [
         "dbfs:/FileStore/2011_09_09.csv",
         "2011_09_09.csv",
         142210,
         1670336631000
        ],
        [
         "dbfs:/FileStore/2011_09_11.csv",
         "2011_09_11.csv",
         185196,
         1670336632000
        ],
        [
         "dbfs:/FileStore/2011_09_12.csv",
         "2011_09_12.csv",
         154124,
         1670336633000
        ],
        [
         "dbfs:/FileStore/2011_09_13.csv",
         "2011_09_13.csv",
         217571,
         1670336634000
        ],
        [
         "dbfs:/FileStore/2011_09_14.csv",
         "2011_09_14.csv",
         123164,
         1670336634000
        ],
        [
         "dbfs:/FileStore/2011_09_15.csv",
         "2011_09_15.csv",
         195419,
         1670336636000
        ],
        [
         "dbfs:/FileStore/2011_09_16.csv",
         "2011_09_16.csv",
         131715,
         1670336636000
        ],
        [
         "dbfs:/FileStore/2011_09_18.csv",
         "2011_09_18.csv",
         116452,
         1670336637000
        ],
        [
         "dbfs:/FileStore/2011_09_19.csv",
         "2011_09_19.csv",
         128010,
         1670336637000
        ],
        [
         "dbfs:/FileStore/2011_09_20.csv",
         "2011_09_20.csv",
         153186,
         1670336638000
        ],
        [
         "dbfs:/FileStore/2011_09_21.csv",
         "2011_09_21.csv",
         272947,
         1670336640000
        ],
        [
         "dbfs:/FileStore/2011_09_22.csv",
         "2011_09_22.csv",
         246699,
         1670336641000
        ],
        [
         "dbfs:/FileStore/2011_09_23.csv",
         "2011_09_23.csv",
         233544,
         1670336642000
        ],
        [
         "dbfs:/FileStore/2011_09_25.csv",
         "2011_09_25.csv",
         182072,
         1670336642000
        ],
        [
         "dbfs:/FileStore/2011_09_26.csv",
         "2011_09_26.csv",
         141083,
         1670336644000
        ],
        [
         "dbfs:/FileStore/2011_09_27.csv",
         "2011_09_27.csv",
         168998,
         1670336644000
        ],
        [
         "dbfs:/FileStore/2011_09_28.csv",
         "2011_09_28.csv",
         255103,
         1670336646000
        ],
        [
         "dbfs:/FileStore/2011_09_29.csv",
         "2011_09_29.csv",
         225953,
         1670336647000
        ],
        [
         "dbfs:/FileStore/2011_09_30.csv",
         "2011_09_30.csv",
         168344,
         1670336648000
        ],
        [
         "dbfs:/FileStore/2011_10_02.csv",
         "2011_10_02.csv",
         130864,
         1670336648000
        ],
        [
         "dbfs:/FileStore/2011_10_03.csv",
         "2011_10_03.csv",
         205031,
         1670336650000
        ],
        [
         "dbfs:/FileStore/2011_10_04.csv",
         "2011_10_04.csv",
         249521,
         1670336650000
        ],
        [
         "dbfs:/FileStore/2011_10_05.csv",
         "2011_10_05.csv",
         219340,
         1670336652000
        ],
        [
         "dbfs:/FileStore/2011_10_06.csv",
         "2011_10_06.csv",
         285739,
         1670336653000
        ],
        [
         "dbfs:/FileStore/2011_10_07.csv",
         "2011_10_07.csv",
         216893,
         1670336654000
        ],
        [
         "dbfs:/FileStore/2011_10_09.csv",
         "2011_10_09.csv",
         118425,
         1670336654000
        ],
        [
         "dbfs:/FileStore/2011_10_10.csv",
         "2011_10_10.csv",
         289700,
         1670336656000
        ],
        [
         "dbfs:/FileStore/2011_10_11.csv",
         "2011_10_11.csv",
         217528,
         1670336656000
        ],
        [
         "dbfs:/FileStore/2011_10_12.csv",
         "2011_10_12.csv",
         192765,
         1670336658000
        ],
        [
         "dbfs:/FileStore/2011_10_13.csv",
         "2011_10_13.csv",
         209708,
         1670336658000
        ],
        [
         "dbfs:/FileStore/2011_10_14.csv",
         "2011_10_14.csv",
         162184,
         1670336659000
        ],
        [
         "dbfs:/FileStore/2011_10_16.csv",
         "2011_10_16.csv",
         114470,
         1670336659000
        ],
        [
         "dbfs:/FileStore/2011_10_17.csv",
         "2011_10_17.csv",
         261910,
         1670336662000
        ],
        [
         "dbfs:/FileStore/2011_10_18.csv",
         "2011_10_18.csv",
         257244,
         1670336661000
        ],
        [
         "dbfs:/FileStore/2011_10_19.csv",
         "2011_10_19.csv",
         206689,
         1670336663000
        ],
        [
         "dbfs:/FileStore/2011_10_20.csv",
         "2011_10_20.csv",
         212077,
         1670336664000
        ],
        [
         "dbfs:/FileStore/2011_10_21.csv",
         "2011_10_21.csv",
         127547,
         1670336665000
        ],
        [
         "dbfs:/FileStore/2011_10_23.csv",
         "2011_10_23.csv",
         158316,
         1670336665000
        ],
        [
         "dbfs:/FileStore/2011_10_24.csv",
         "2011_10_24.csv",
         263839,
         1670336667000
        ],
        [
         "dbfs:/FileStore/2011_10_25.csv",
         "2011_10_25.csv",
         223947,
         1670336667000
        ],
        [
         "dbfs:/FileStore/2011_10_26.csv",
         "2011_10_26.csv",
         174790,
         1670336669000
        ],
        [
         "dbfs:/FileStore/2011_10_27.csv",
         "2011_10_27.csv",
         228883,
         1670336669000
        ],
        [
         "dbfs:/FileStore/2011_10_28.csv",
         "2011_10_28.csv",
         146761,
         1670336670000
        ],
        [
         "dbfs:/FileStore/2011_10_30.csv",
         "2011_10_30.csv",
         264885,
         1670336672000
        ],
        [
         "dbfs:/FileStore/2011_10_31.csv",
         "2011_10_31.csv",
         298653,
         1670336673000
        ],
        [
         "dbfs:/FileStore/2011_11_01.csv",
         "2011_11_01.csv",
         161872,
         1670336673000
        ],
        [
         "dbfs:/FileStore/2011_11_02.csv",
         "2011_11_02.csv",
         233949,
         1670336675000
        ],
        [
         "dbfs:/FileStore/2011_11_03.csv",
         "2011_11_03.csv",
         216844,
         1670336675000
        ],
        [
         "dbfs:/FileStore/2011_11_04.csv",
         "2011_11_04.csv",
         270087,
         1670336678000
        ],
        [
         "dbfs:/FileStore/2011_11_06.csv",
         "2011_11_06.csv",
         313153,
         1670336678000
        ],
        [
         "dbfs:/FileStore/2011_11_07.csv",
         "2011_11_07.csv",
         188148,
         1670336679000
        ],
        [
         "dbfs:/FileStore/2011_11_08.csv",
         "2011_11_08.csv",
         359329,
         1670336681000
        ],
        [
         "dbfs:/FileStore/2011_11_09.csv",
         "2011_11_09.csv",
         244073,
         1670336681000
        ],
        [
         "dbfs:/FileStore/2011_11_10.csv",
         "2011_11_10.csv",
         295607,
         1670336683000
        ],
        [
         "dbfs:/FileStore/2011_11_11.csv",
         "2011_11_11.csv",
         359019,
         1670336684000
        ],
        [
         "dbfs:/FileStore/2011_11_13.csv",
         "2011_11_13.csv",
         272682,
         1670336686000
        ],
        [
         "dbfs:/FileStore/2011_11_14.csv",
         "2011_11_14.csv",
         322946,
         1670336687000
        ],
        [
         "dbfs:/FileStore/2011_11_15.csv",
         "2011_11_15.csv",
         304442,
         1670336688000
        ],
        [
         "dbfs:/FileStore/2011_11_16.csv",
         "2011_11_16.csv",
         371320,
         1670336692000
        ],
        [
         "dbfs:/FileStore/2011_11_17.csv",
         "2011_11_17.csv",
         321770,
         1670336692000
        ],
        [
         "dbfs:/FileStore/2011_11_18.csv",
         "2011_11_18.csv",
         258456,
         1670336694000
        ],
        [
         "dbfs:/FileStore/2011_11_20.csv",
         "2011_11_20.csv",
         302441,
         1670336695000
        ],
        [
         "dbfs:/FileStore/2011_11_21.csv",
         "2011_11_21.csv",
         262095,
         1670336696000
        ],
        [
         "dbfs:/FileStore/2011_11_22.csv",
         "2011_11_22.csv",
         351999,
         1670336698000
        ],
        [
         "dbfs:/FileStore/2011_11_23.csv",
         "2011_11_23.csv",
         327359,
         1670336699000
        ],
        [
         "dbfs:/FileStore/2011_11_24.csv",
         "2011_11_24.csv",
         331824,
         1670336701000
        ],
        [
         "dbfs:/FileStore/2011_11_25.csv",
         "2011_11_25.csv",
         273837,
         1670336702000
        ],
        [
         "dbfs:/FileStore/2011_11_27.csv",
         "2011_11_27.csv",
         230974,
         1670336703000
        ],
        [
         "dbfs:/FileStore/2011_11_28.csv",
         "2011_11_28.csv",
         297785,
         1670336705000
        ],
        [
         "dbfs:/FileStore/2011_11_29.csv",
         "2011_11_29.csv",
         381332,
         1670336706000
        ],
        [
         "dbfs:/FileStore/2011_11_30.csv",
         "2011_11_30.csv",
         303485,
         1670336707000
        ],
        [
         "dbfs:/FileStore/2011_12_01.csv",
         "2011_12_01.csv",
         259173,
         1670336708000
        ],
        [
         "dbfs:/FileStore/2011_12_02.csv",
         "2011_12_02.csv",
         254858,
         1670336709000
        ],
        [
         "dbfs:/FileStore/2011_12_04.csv",
         "2011_12_04.csv",
         184959,
         1670336710000
        ],
        [
         "dbfs:/FileStore/2011_12_05.csv",
         "2011_12_05.csv",
         472154,
         1670336714000
        ],
        [
         "dbfs:/FileStore/2011_12_06.csv",
         "2011_12_06.csv",
         300750,
         1670336713000
        ],
        [
         "dbfs:/FileStore/2011_12_07.csv",
         "2011_12_07.csv",
         217714,
         1670336715000
        ],
        [
         "dbfs:/FileStore/2011_12_08.csv",
         "2011_12_08.csv",
         432962,
         1670336719000
        ],
        [
         "dbfs:/FileStore/2011_12_09.csv",
         "2011_12_09.csv",
         140637,
         1670336717000
        ],
        [
         "dbfs:/FileStore/2011_summary.csv",
         "2011_summary.csv",
         7069,
         1670336632000
        ],
        [
         "dbfs:/FileStore/2011_summary.json",
         "2011_summary.json",
         21301,
         1670336657000
        ],
        [
         "dbfs:/FileStore/2012_summary.csv",
         "2012_summary.csv",
         6857,
         1670336633000
        ],
        [
         "dbfs:/FileStore/2012_summary.json",
         "2012_summary.json",
         20529,
         1670336657000
        ],
        [
         "dbfs:/FileStore/2013_summary.csv",
         "2013_summary.csv",
         7020,
         1670336633000
        ],
        [
         "dbfs:/FileStore/2013_summary.json",
         "2013_summary.json",
         20968,
         1670336657000
        ],
        [
         "dbfs:/FileStore/2014_summary.csv",
         "2014_summary.csv",
         6729,
         1670336634000
        ],
        [
         "dbfs:/FileStore/2014_summary.json",
         "2014_summary.json",
         20177,
         1670336658000
        ],
        [
         "dbfs:/FileStore/201508_station_data.csv",
         "201508_station_data.csv",
         5272,
         1670336727000
        ],
        [
         "dbfs:/FileStore/2015_summary.csv",
         "2015_summary.csv",
         7080,
         1670336634000
        ],
        [
         "dbfs:/FileStore/2015_summary.json",
         "2015_summary.json",
         21368,
         1670336658000
        ],
        [
         "dbfs:/FileStore/BooksDataset.csv",
         "BooksDataset.csv",
         69747726,
         1703159982000
        ],
        [
         "dbfs:/FileStore/PysparkRaveendra_master.zip",
         "PysparkRaveendra_master.zip",
         91639787,
         1702316278000
        ],
        [
         "dbfs:/FileStore/archive.zip",
         "archive.zip",
         7295,
         1703159434000
        ],
        [
         "dbfs:/FileStore/categories.csv",
         "categories.csv",
         1085,
         1668940109000
        ],
        [
         "dbfs:/FileStore/customers.csv",
         "customers.csv",
         966154,
         1668940081000
        ],
        [
         "dbfs:/FileStore/employee.csv",
         "employee.csv",
         8653,
         1669109226000
        ],
        [
         "dbfs:/FileStore/example.csv",
         "example.csv",
         4208,
         1668941185000
        ],
        [
         "dbfs:/FileStore/flight.csv",
         "flight.csv",
         43157,
         1669109275000
        ],
        [
         "dbfs:/FileStore/greetings.txt",
         "greetings.txt",
         68,
         1703178100000
        ],
        [
         "dbfs:/FileStore/import-stage/",
         "import-stage/",
         0,
         0
        ],
        [
         "dbfs:/FileStore/iris.csv",
         "iris.csv",
         3975,
         1669109294000
        ],
        [
         "dbfs:/FileStore/muliti_delimiter.csv",
         "muliti_delimiter.csv",
         85,
         1703150542000
        ],
        [
         "dbfs:/FileStore/online_retail_dataset-1.csv",
         "online_retail_dataset-1.csv",
         45038760,
         1670336445000
        ],
        [
         "dbfs:/FileStore/online_retail_dataset.csv",
         "online_retail_dataset.csv",
         45038760,
         1670336434000
        ],
        [
         "dbfs:/FileStore/order_items.csv",
         "order_items.csv",
         5581078,
         1668940257000
        ],
        [
         "dbfs:/FileStore/orders.csv",
         "orders.csv",
         3068825,
         1668934394000
        ],
        [
         "dbfs:/FileStore/products.csv",
         "products.csv",
         175500,
         1668940161000
        ],
        [
         "dbfs:/FileStore/small_zipcode.csv",
         "small_zipcode.csv",
         190,
         1703322907000
        ],
        [
         "dbfs:/FileStore/tables/",
         "tables/",
         0,
         0
        ],
        [
         "dbfs:/FileStore/zipcodes.csv",
         "zipcodes.csv",
         3057,
         1703321737000
        ]
       ],
       "datasetInfos": [],
       "dbfsResultPath": null,
       "isJsonSchema": true,
       "metadata": {},
       "overflow": false,
       "plotOptions": {
        "customPlotOptions": {},
        "displayType": "table",
        "pivotAggregation": null,
        "pivotColumns": null,
        "xColumns": null,
        "yColumns": null
       },
       "removedWidgets": [],
       "schema": [
        {
         "metadata": "{}",
         "name": "path",
         "type": "\"string\""
        },
        {
         "metadata": "{}",
         "name": "name",
         "type": "\"string\""
        },
        {
         "metadata": "{}",
         "name": "size",
         "type": "\"long\""
        },
        {
         "metadata": "{}",
         "name": "modificationTime",
         "type": "\"long\""
        }
       ],
       "type": "table"
      }
     },
     "output_type": "display_data"
    }
   ],
   "source": [
    "%fs ls 'dbfs:/FileStore/'"
   ]
  },
  {
   "cell_type": "code",
   "execution_count": 0,
   "metadata": {
    "application/vnd.databricks.v1+cell": {
     "cellMetadata": {
      "byteLimit": 2048000,
      "rowLimit": 10000
     },
     "inputWidgets": {},
     "nuid": "5f404d12-9fcd-4205-bbaa-2955cd589604",
     "showTitle": false,
     "title": ""
    }
   },
   "outputs": [
    {
     "output_type": "display_data",
     "data": {
      "text/html": [
       "<div class = \"ansiout\"><b>dbutils.fs</b> provides utilities for working with FileSystems. Most methods in\n",
       "this package can take either a DBFS path (e.g., \"/foo\" or \"dbfs:/foo\"), or\n",
       "another FileSystem URI.\n",
       "\n",
       "For more info about a method, use <b>dbutils.fs.help(\"methodName\")</b>.\n",
       "\n",
       "In notebooks, you can also use the %fs shorthand to access DBFS. The %fs shorthand maps\n",
       "straightforwardly onto dbutils calls. For example, \"%fs head --maxBytes=10000 /file/path\"\n",
       "translates into \"dbutils.fs.head(\"/file/path\", maxBytes = 10000)\".\n",
       "    <h3>mount</h3><b>mount(source: String, mountPoint: String, encryptionType: String = \"\", owner: String = null, extraConfigs: Map = Map.empty[String, String]): boolean</b> -> Mounts the given source directory into DBFS at the given mount point<br /><b>mounts: Seq</b> -> Displays information about what is mounted within DBFS<br /><b>refreshMounts: boolean</b> -> Forces all machines in this cluster to refresh their mount cache, ensuring they receive the most recent information<br /><b>unmount(mountPoint: String): boolean</b> -> Deletes a DBFS mount point<br /><b>updateMount(source: String, mountPoint: String, encryptionType: String = \"\", owner: String = null, extraConfigs: Map = Map.empty[String, String]): boolean</b> -> Similar to mount(), but updates an existing mount point (if present) instead of creating a new one<br /><br /><h3>fsutils</h3><b>cp(from: String, to: String, recurse: boolean = false): boolean</b> -> Copies a file or directory, possibly across FileSystems<br /><b>head(file: String, maxBytes: int = 65536): String</b> -> Returns up to the first 'maxBytes' bytes of the given file as a String encoded in UTF-8<br /><b>ls(dir: String): Seq</b> -> Lists the contents of a directory<br /><b>mkdirs(dir: String): boolean</b> -> Creates the given directory if it does not exist, also creating any necessary parent directories<br /><b>mv(from: String, to: String, recurse: boolean = false): boolean</b> -> Moves a file or directory, possibly across FileSystems<br /><b>put(file: String, contents: String, overwrite: boolean = false): boolean</b> -> Writes the given String out to a file, encoded in UTF-8<br /><b>rm(dir: String, recurse: boolean = false): boolean</b> -> Removes a file or directory<br /><br /></div>"
      ]
     },
     "metadata": {
      "application/vnd.databricks.v1+output": {
       "addedWidgets": {},
       "arguments": {},
       "data": "<div class = \"ansiout\"><b>dbutils.fs</b> provides utilities for working with FileSystems. Most methods in\nthis package can take either a DBFS path (e.g., \"/foo\" or \"dbfs:/foo\"), or\nanother FileSystem URI.\n\nFor more info about a method, use <b>dbutils.fs.help(\"methodName\")</b>.\n\nIn notebooks, you can also use the %fs shorthand to access DBFS. The %fs shorthand maps\nstraightforwardly onto dbutils calls. For example, \"%fs head --maxBytes=10000 /file/path\"\ntranslates into \"dbutils.fs.head(\"/file/path\", maxBytes = 10000)\".\n    <h3>mount</h3><b>mount(source: String, mountPoint: String, encryptionType: String = \"\", owner: String = null, extraConfigs: Map = Map.empty[String, String]): boolean</b> -> Mounts the given source directory into DBFS at the given mount point<br /><b>mounts: Seq</b> -> Displays information about what is mounted within DBFS<br /><b>refreshMounts: boolean</b> -> Forces all machines in this cluster to refresh their mount cache, ensuring they receive the most recent information<br /><b>unmount(mountPoint: String): boolean</b> -> Deletes a DBFS mount point<br /><b>updateMount(source: String, mountPoint: String, encryptionType: String = \"\", owner: String = null, extraConfigs: Map = Map.empty[String, String]): boolean</b> -> Similar to mount(), but updates an existing mount point (if present) instead of creating a new one<br /><br /><h3>fsutils</h3><b>cp(from: String, to: String, recurse: boolean = false): boolean</b> -> Copies a file or directory, possibly across FileSystems<br /><b>head(file: String, maxBytes: int = 65536): String</b> -> Returns up to the first 'maxBytes' bytes of the given file as a String encoded in UTF-8<br /><b>ls(dir: String): Seq</b> -> Lists the contents of a directory<br /><b>mkdirs(dir: String): boolean</b> -> Creates the given directory if it does not exist, also creating any necessary parent directories<br /><b>mv(from: String, to: String, recurse: boolean = false): boolean</b> -> Moves a file or directory, possibly across FileSystems<br /><b>put(file: String, contents: String, overwrite: boolean = false): boolean</b> -> Writes the given String out to a file, encoded in UTF-8<br /><b>rm(dir: String, recurse: boolean = false): boolean</b> -> Removes a file or directory<br /><br /></div>",
       "datasetInfos": [],
       "metadata": {
        "isDbfsCommandResult": false
       },
       "removedWidgets": [],
       "textData": null,
       "type": "htmlSandbox"
      }
     },
     "output_type": "display_data"
    }
   ],
   "source": [
    "%fs"
   ]
  },
  {
   "cell_type": "code",
   "execution_count": 0,
   "metadata": {
    "application/vnd.databricks.v1+cell": {
     "cellMetadata": {
      "byteLimit": 2048000,
      "implicitDf": true,
      "rowLimit": 10000
     },
     "inputWidgets": {},
     "nuid": "c6e0e0df-7eec-47c1-991f-16970ec90880",
     "showTitle": false,
     "title": ""
    }
   },
   "outputs": [
    {
     "output_type": "stream",
     "name": "stdout",
     "output_type": "stream",
     "text": [
      "Out[6]: [FileInfo(path='dbfs:/FileStore/2010_12_02.csv', name='2010_12_02.csv', size=191826, modificationTime=1670336473000),\n FileInfo(path='dbfs:/FileStore/2010_12_03.csv', name='2010_12_03.csv', size=190700, modificationTime=1670336475000),\n FileInfo(path='dbfs:/FileStore/2010_12_05.csv', name='2010_12_05.csv', size=246056, modificationTime=1670336476000),\n FileInfo(path='dbfs:/FileStore/2010_12_06.csv', name='2010_12_06.csv', size=339039, modificationTime=1670336478000),\n FileInfo(path='dbfs:/FileStore/2010_12_07.csv', name='2010_12_07.csv', size=255832, modificationTime=1670336478000),\n FileInfo(path='dbfs:/FileStore/2010_12_08.csv', name='2010_12_08.csv', size=235974, modificationTime=1670336480000),\n FileInfo(path='dbfs:/FileStore/2010_12_09.csv', name='2010_12_09.csv', size=252904, modificationTime=1670336481000),\n FileInfo(path='dbfs:/FileStore/2010_12_10.csv', name='2010_12_10.csv', size=241468, modificationTime=1670336482000),\n FileInfo(path='dbfs:/FileStore/2010_12_12.csv', name='2010_12_12.csv', size=132120, modificationTime=1670336482000),\n FileInfo(path='dbfs:/FileStore/2010_12_13.csv', name='2010_12_13.csv', size=202021, modificationTime=1670336484000),\n FileInfo(path='dbfs:/FileStore/2010_12_14.csv', name='2010_12_14.csv', size=186685, modificationTime=1670336484000),\n FileInfo(path='dbfs:/FileStore/2010_12_15.csv', name='2010_12_15.csv', size=122496, modificationTime=1670336485000),\n FileInfo(path='dbfs:/FileStore/2010_12_16.csv', name='2010_12_16.csv', size=163452, modificationTime=1670336486000),\n FileInfo(path='dbfs:/FileStore/2010_12_17.csv', name='2010_12_17.csv', size=264944, modificationTime=1670336488000),\n FileInfo(path='dbfs:/FileStore/2010_12_19.csv', name='2010_12_19.csv', size=47264, modificationTime=1670336486000),\n FileInfo(path='dbfs:/FileStore/2010_12_20.csv', name='2010_12_20.csv', size=153561, modificationTime=1670336488000),\n FileInfo(path='dbfs:/FileStore/2010_12_21.csv', name='2010_12_21.csv', size=134904, modificationTime=1670336489000),\n FileInfo(path='dbfs:/FileStore/2010_12_22.csv', name='2010_12_22.csv', size=25836, modificationTime=1670336489000),\n FileInfo(path='dbfs:/FileStore/2010_12_23.csv', name='2010_12_23.csv', size=83192, modificationTime=1670336490000),\n FileInfo(path='dbfs:/FileStore/2010_summary.csv', name='2010_summary.csv', size=7121, modificationTime=1670336632000),\n FileInfo(path='dbfs:/FileStore/2010_summary.json', name='2010_summary.json', size=21353, modificationTime=1670336657000),\n FileInfo(path='dbfs:/FileStore/2011_01_04.csv', name='2011_01_04.csv', size=104656, modificationTime=1670336490000),\n FileInfo(path='dbfs:/FileStore/2011_01_05.csv', name='2011_01_05.csv', size=153733, modificationTime=1670336491000),\n FileInfo(path='dbfs:/FileStore/2011_01_06.csv', name='2011_01_06.csv', size=162100, modificationTime=1670336492000),\n FileInfo(path='dbfs:/FileStore/2011_01_07.csv', name='2011_01_07.csv', size=155938, modificationTime=1670336493000),\n FileInfo(path='dbfs:/FileStore/2011_01_09.csv', name='2011_01_09.csv', size=101317, modificationTime=1670336493000),\n FileInfo(path='dbfs:/FileStore/2011_01_10.csv', name='2011_01_10.csv', size=170418, modificationTime=1670336494000),\n FileInfo(path='dbfs:/FileStore/2011_01_11.csv', name='2011_01_11.csv', size=127847, modificationTime=1670336494000),\n FileInfo(path='dbfs:/FileStore/2011_01_12.csv', name='2011_01_12.csv', size=158187, modificationTime=1670336496000),\n FileInfo(path='dbfs:/FileStore/2011_01_13.csv', name='2011_01_13.csv', size=126109, modificationTime=1670336496000),\n FileInfo(path='dbfs:/FileStore/2011_01_14.csv', name='2011_01_14.csv', size=131086, modificationTime=1670336497000),\n FileInfo(path='dbfs:/FileStore/2011_01_16.csv', name='2011_01_16.csv', size=58906, modificationTime=1670336497000),\n FileInfo(path='dbfs:/FileStore/2011_01_17.csv', name='2011_01_17.csv', size=221821, modificationTime=1670336499000),\n FileInfo(path='dbfs:/FileStore/2011_01_18.csv', name='2011_01_18.csv', size=124711, modificationTime=1670336499000),\n FileInfo(path='dbfs:/FileStore/2011_01_19.csv', name='2011_01_19.csv', size=124865, modificationTime=1670336500000),\n FileInfo(path='dbfs:/FileStore/2011_01_20.csv', name='2011_01_20.csv', size=130157, modificationTime=1670336501000),\n FileInfo(path='dbfs:/FileStore/2011_01_21.csv', name='2011_01_21.csv', size=139157, modificationTime=1670336502000),\n FileInfo(path='dbfs:/FileStore/2011_01_23.csv', name='2011_01_23.csv', size=80012, modificationTime=1670336502000),\n FileInfo(path='dbfs:/FileStore/2011_01_24.csv', name='2011_01_24.csv', size=128813, modificationTime=1670336503000),\n FileInfo(path='dbfs:/FileStore/2011_01_25.csv', name='2011_01_25.csv', size=146739, modificationTime=1670336503000),\n FileInfo(path='dbfs:/FileStore/2011_01_26.csv', name='2011_01_26.csv', size=113985, modificationTime=1670336504000),\n FileInfo(path='dbfs:/FileStore/2011_01_27.csv', name='2011_01_27.csv', size=140033, modificationTime=1670336505000),\n FileInfo(path='dbfs:/FileStore/2011_01_28.csv', name='2011_01_28.csv', size=87450, modificationTime=1670336505000),\n FileInfo(path='dbfs:/FileStore/2011_01_30.csv', name='2011_01_30.csv', size=66171, modificationTime=1670336506000),\n FileInfo(path='dbfs:/FileStore/2011_01_31.csv', name='2011_01_31.csv', size=132774, modificationTime=1670336507000),\n FileInfo(path='dbfs:/FileStore/2011_02_01.csv', name='2011_02_01.csv', size=139954, modificationTime=1670336507000),\n FileInfo(path='dbfs:/FileStore/2011_02_02.csv', name='2011_02_02.csv', size=124794, modificationTime=1670336508000),\n FileInfo(path='dbfs:/FileStore/2011_02_03.csv', name='2011_02_03.csv', size=87779, modificationTime=1670336508000),\n FileInfo(path='dbfs:/FileStore/2011_02_04.csv', name='2011_02_04.csv', size=107014, modificationTime=1670336509000),\n FileInfo(path='dbfs:/FileStore/2011_02_06.csv', name='2011_02_06.csv', size=25516, modificationTime=1670336509000),\n FileInfo(path='dbfs:/FileStore/2011_02_07.csv', name='2011_02_07.csv', size=111980, modificationTime=1670336510000),\n FileInfo(path='dbfs:/FileStore/2011_02_08.csv', name='2011_02_08.csv', size=107136, modificationTime=1670336510000),\n FileInfo(path='dbfs:/FileStore/2011_02_09.csv', name='2011_02_09.csv', size=75999, modificationTime=1670336511000),\n FileInfo(path='dbfs:/FileStore/2011_02_10.csv', name='2011_02_10.csv', size=70942, modificationTime=1670336511000),\n FileInfo(path='dbfs:/FileStore/2011_02_11.csv', name='2011_02_11.csv', size=83807, modificationTime=1670336512000),\n FileInfo(path='dbfs:/FileStore/2011_02_13.csv', name='2011_02_13.csv', size=57098, modificationTime=1670336512000),\n FileInfo(path='dbfs:/FileStore/2011_02_14.csv', name='2011_02_14.csv', size=97341, modificationTime=1670336513000),\n FileInfo(path='dbfs:/FileStore/2011_02_15.csv', name='2011_02_15.csv', size=117745, modificationTime=1670336514000),\n FileInfo(path='dbfs:/FileStore/2011_02_16.csv', name='2011_02_16.csv', size=106100, modificationTime=1670336514000),\n FileInfo(path='dbfs:/FileStore/2011_02_17.csv', name='2011_02_17.csv', size=150882, modificationTime=1670336515000),\n FileInfo(path='dbfs:/FileStore/2011_02_18.csv', name='2011_02_18.csv', size=75633, modificationTime=1670336516000),\n FileInfo(path='dbfs:/FileStore/2011_02_20.csv', name='2011_02_20.csv', size=78068, modificationTime=1670336516000),\n FileInfo(path='dbfs:/FileStore/2011_02_21.csv', name='2011_02_21.csv', size=124088, modificationTime=1670336517000),\n FileInfo(path='dbfs:/FileStore/2011_02_22.csv', name='2011_02_22.csv', size=142089, modificationTime=1670336518000),\n FileInfo(path='dbfs:/FileStore/2011_02_23.csv', name='2011_02_23.csv', size=138337, modificationTime=1670336518000),\n FileInfo(path='dbfs:/FileStore/2011_02_24.csv', name='2011_02_24.csv', size=116769, modificationTime=1670336519000),\n FileInfo(path='dbfs:/FileStore/2011_02_25.csv', name='2011_02_25.csv', size=87507, modificationTime=1670336520000),\n FileInfo(path='dbfs:/FileStore/2011_02_27.csv', name='2011_02_27.csv', size=74111, modificationTime=1670336520000),\n FileInfo(path='dbfs:/FileStore/2011_02_28.csv', name='2011_02_28.csv', size=151947, modificationTime=1670336521000),\n FileInfo(path='dbfs:/FileStore/2011_03_01.csv', name='2011_03_01.csv', size=119793, modificationTime=1670336522000),\n FileInfo(path='dbfs:/FileStore/2011_03_02.csv', name='2011_03_02.csv', size=85302, modificationTime=1670336522000),\n FileInfo(path='dbfs:/FileStore/2011_03_03.csv', name='2011_03_03.csv', size=122010, modificationTime=1670336524000),\n FileInfo(path='dbfs:/FileStore/2011_03_04.csv', name='2011_03_04.csv', size=97942, modificationTime=1670336524000),\n FileInfo(path='dbfs:/FileStore/2011_03_06.csv', name='2011_03_06.csv', size=76977, modificationTime=1670336525000),\n FileInfo(path='dbfs:/FileStore/2011_03_07.csv', name='2011_03_07.csv', size=172784, modificationTime=1670336526000),\n FileInfo(path='dbfs:/FileStore/2011_03_08.csv', name='2011_03_08.csv', size=141880, modificationTime=1670336526000),\n FileInfo(path='dbfs:/FileStore/2011_03_09.csv', name='2011_03_09.csv', size=113715, modificationTime=1670336527000),\n FileInfo(path='dbfs:/FileStore/2011_03_10.csv', name='2011_03_10.csv', size=100881, modificationTime=1670336527000),\n FileInfo(path='dbfs:/FileStore/2011_03_11.csv', name='2011_03_11.csv', size=84393, modificationTime=1670336528000),\n FileInfo(path='dbfs:/FileStore/2011_03_13.csv', name='2011_03_13.csv', size=48917, modificationTime=1670336528000),\n FileInfo(path='dbfs:/FileStore/2011_03_14.csv', name='2011_03_14.csv', size=99595, modificationTime=1670336529000),\n FileInfo(path='dbfs:/FileStore/2011_03_15.csv', name='2011_03_15.csv', size=112853, modificationTime=1670336529000),\n FileInfo(path='dbfs:/FileStore/2011_03_16.csv', name='2011_03_16.csv', size=78923, modificationTime=1670336530000),\n FileInfo(path='dbfs:/FileStore/2011_03_17.csv', name='2011_03_17.csv', size=180245, modificationTime=1670336531000),\n FileInfo(path='dbfs:/FileStore/2011_03_18.csv', name='2011_03_18.csv', size=122082, modificationTime=1670336532000),\n FileInfo(path='dbfs:/FileStore/2011_03_20.csv', name='2011_03_20.csv', size=130096, modificationTime=1670336533000),\n FileInfo(path='dbfs:/FileStore/2011_03_21.csv', name='2011_03_21.csv', size=96588, modificationTime=1670336533000),\n FileInfo(path='dbfs:/FileStore/2011_03_22.csv', name='2011_03_22.csv', size=206516, modificationTime=1670336535000),\n FileInfo(path='dbfs:/FileStore/2011_03_23.csv', name='2011_03_23.csv', size=116861, modificationTime=1670336535000),\n FileInfo(path='dbfs:/FileStore/2011_03_24.csv', name='2011_03_24.csv', size=141988, modificationTime=1670336536000),\n FileInfo(path='dbfs:/FileStore/2011_03_25.csv', name='2011_03_25.csv', size=122156, modificationTime=1670336536000),\n FileInfo(path='dbfs:/FileStore/2011_03_27.csv', name='2011_03_27.csv', size=67786, modificationTime=1670336537000),\n FileInfo(path='dbfs:/FileStore/2011_03_28.csv', name='2011_03_28.csv', size=147212, modificationTime=1670336538000),\n FileInfo(path='dbfs:/FileStore/2011_03_29.csv', name='2011_03_29.csv', size=173104, modificationTime=1670336539000),\n FileInfo(path='dbfs:/FileStore/2011_03_30.csv', name='2011_03_30.csv', size=141435, modificationTime=1670336540000),\n FileInfo(path='dbfs:/FileStore/2011_03_31.csv', name='2011_03_31.csv', size=152420, modificationTime=1670336541000),\n FileInfo(path='dbfs:/FileStore/2011_04_01.csv', name='2011_04_01.csv', size=112493, modificationTime=1670336541000),\n FileInfo(path='dbfs:/FileStore/2011_04_03.csv', name='2011_04_03.csv', size=66518, modificationTime=1670336542000),\n FileInfo(path='dbfs:/FileStore/2011_04_04.csv', name='2011_04_04.csv', size=150711, modificationTime=1670336542000),\n FileInfo(path='dbfs:/FileStore/2011_04_05.csv', name='2011_04_05.csv', size=107560, modificationTime=1670336543000),\n FileInfo(path='dbfs:/FileStore/2011_04_06.csv', name='2011_04_06.csv', size=98068, modificationTime=1670336544000),\n FileInfo(path='dbfs:/FileStore/2011_04_07.csv', name='2011_04_07.csv', size=136252, modificationTime=1670336544000),\n FileInfo(path='dbfs:/FileStore/2011_04_08.csv', name='2011_04_08.csv', size=125969, modificationTime=1670336545000),\n FileInfo(path='dbfs:/FileStore/2011_04_10.csv', name='2011_04_10.csv', size=85637, modificationTime=1670336546000),\n FileInfo(path='dbfs:/FileStore/2011_04_11.csv', name='2011_04_11.csv', size=112516, modificationTime=1670336546000),\n FileInfo(path='dbfs:/FileStore/2011_04_12.csv', name='2011_04_12.csv', size=104116, modificationTime=1670336547000),\n FileInfo(path='dbfs:/FileStore/2011_04_13.csv', name='2011_04_13.csv', size=95007, modificationTime=1670336547000),\n FileInfo(path='dbfs:/FileStore/2011_04_14.csv', name='2011_04_14.csv', size=144236, modificationTime=1670336548000),\n FileInfo(path='dbfs:/FileStore/2011_04_15.csv', name='2011_04_15.csv', size=128980, modificationTime=1670336549000),\n FileInfo(path='dbfs:/FileStore/2011_04_17.csv', name='2011_04_17.csv', size=87658, modificationTime=1670336549000),\n FileInfo(path='dbfs:/FileStore/2011_04_18.csv', name='2011_04_18.csv', size=280118, modificationTime=1670336552000),\n FileInfo(path='dbfs:/FileStore/2011_04_19.csv', name='2011_04_19.csv', size=165965, modificationTime=1670336551000),\n FileInfo(path='dbfs:/FileStore/2011_04_20.csv', name='2011_04_20.csv', size=91865, modificationTime=1670336553000),\n FileInfo(path='dbfs:/FileStore/2011_04_21.csv', name='2011_04_21.csv', size=170023, modificationTime=1670336554000),\n FileInfo(path='dbfs:/FileStore/2011_04_26.csv', name='2011_04_26.csv', size=167480, modificationTime=1670336554000),\n FileInfo(path='dbfs:/FileStore/2011_04_27.csv', name='2011_04_27.csv', size=116613, modificationTime=1670336555000),\n FileInfo(path='dbfs:/FileStore/2011_04_28.csv', name='2011_04_28.csv', size=106481, modificationTime=1670336556000),\n FileInfo(path='dbfs:/FileStore/2011_05_01.csv', name='2011_05_01.csv', size=40884, modificationTime=1670336556000),\n FileInfo(path='dbfs:/FileStore/2011_05_03.csv', name='2011_05_03.csv', size=126563, modificationTime=1670336557000),\n FileInfo(path='dbfs:/FileStore/2011_05_04.csv', name='2011_05_04.csv', size=105162, modificationTime=1670336557000),\n FileInfo(path='dbfs:/FileStore/2011_05_05.csv', name='2011_05_05.csv', size=162318, modificationTime=1670336558000),\n FileInfo(path='dbfs:/FileStore/2011_05_06.csv', name='2011_05_06.csv', size=180297, modificationTime=1670336559000),\n FileInfo(path='dbfs:/FileStore/2011_05_08.csv', name='2011_05_08.csv', size=136006, modificationTime=1670336560000),\n FileInfo(path='dbfs:/FileStore/2011_05_09.csv', name='2011_05_09.csv', size=154043, modificationTime=1670336560000),\n FileInfo(path='dbfs:/FileStore/2011_05_10.csv', name='2011_05_10.csv', size=224383, modificationTime=1670336562000),\n FileInfo(path='dbfs:/FileStore/2011_05_11.csv', name='2011_05_11.csv', size=151121, modificationTime=1670336562000),\n FileInfo(path='dbfs:/FileStore/2011_05_12.csv', name='2011_05_12.csv', size=175096, modificationTime=1670336564000),\n FileInfo(path='dbfs:/FileStore/2011_05_13.csv', name='2011_05_13.csv', size=125524, modificationTime=1670336564000),\n FileInfo(path='dbfs:/FileStore/2011_05_15.csv', name='2011_05_15.csv', size=73038, modificationTime=1670336565000),\n FileInfo(path='dbfs:/FileStore/2011_05_16.csv', name='2011_05_16.csv', size=140801, modificationTime=1670336565000),\n FileInfo(path='dbfs:/FileStore/2011_05_17.csv', name='2011_05_17.csv', size=168847, modificationTime=1670336567000),\n FileInfo(path='dbfs:/FileStore/2011_05_18.csv', name='2011_05_18.csv', size=121774, modificationTime=1670336567000),\n FileInfo(path='dbfs:/FileStore/2011_05_19.csv', name='2011_05_19.csv', size=172737, modificationTime=1670336568000),\n FileInfo(path='dbfs:/FileStore/2011_05_20.csv', name='2011_05_20.csv', size=100198, modificationTime=1670336568000),\n FileInfo(path='dbfs:/FileStore/2011_05_22.csv', name='2011_05_22.csv', size=141114, modificationTime=1670336569000),\n FileInfo(path='dbfs:/FileStore/2011_05_23.csv', name='2011_05_23.csv', size=144869, modificationTime=1670336570000),\n FileInfo(path='dbfs:/FileStore/2011_05_24.csv', name='2011_05_24.csv', size=153615, modificationTime=1670336571000),\n FileInfo(path='dbfs:/FileStore/2011_05_25.csv', name='2011_05_25.csv', size=116151, modificationTime=1670336571000),\n FileInfo(path='dbfs:/FileStore/2011_05_26.csv', name='2011_05_26.csv', size=86137, modificationTime=1670336572000),\n FileInfo(path='dbfs:/FileStore/2011_05_27.csv', name='2011_05_27.csv', size=103064, modificationTime=1670336572000),\n FileInfo(path='dbfs:/FileStore/2011_05_29.csv', name='2011_05_29.csv', size=57243, modificationTime=1670336572000),\n FileInfo(path='dbfs:/FileStore/2011_05_31.csv', name='2011_05_31.csv', size=112113, modificationTime=1670336573000),\n FileInfo(path='dbfs:/FileStore/2011_06_01.csv', name='2011_06_01.csv', size=126676, modificationTime=1670336573000),\n FileInfo(path='dbfs:/FileStore/2011_06_02.csv', name='2011_06_02.csv', size=139233, modificationTime=1670336575000),\n FileInfo(path='dbfs:/FileStore/2011_06_03.csv', name='2011_06_03.csv', size=75454, modificationTime=1670336574000),\n FileInfo(path='dbfs:/FileStore/2011_06_05.csv', name='2011_06_05.csv', size=140061, modificationTime=1670336576000),\n FileInfo(path='dbfs:/FileStore/2011_06_06.csv', name='2011_06_06.csv', size=109829, modificationTime=1670336576000),\n FileInfo(path='dbfs:/FileStore/2011_06_07.csv', name='2011_06_07.csv', size=171241, modificationTime=1670336577000),\n FileInfo(path='dbfs:/FileStore/2011_06_08.csv', name='2011_06_08.csv', size=203086, modificationTime=1670336577000),\n FileInfo(path='dbfs:/FileStore/2011_06_09.csv', name='2011_06_09.csv', size=162227, modificationTime=1670336579000),\n FileInfo(path='dbfs:/FileStore/2011_06_10.csv', name='2011_06_10.csv', size=93701, modificationTime=1670336578000),\n FileInfo(path='dbfs:/FileStore/2011_06_12.csv', name='2011_06_12.csv', size=97835, modificationTime=1670336579000),\n FileInfo(path='dbfs:/FileStore/2011_06_13.csv', name='2011_06_13.csv', size=129767, modificationTime=1670336580000),\n FileInfo(path='dbfs:/FileStore/2011_06_14.csv', name='2011_06_14.csv', size=140214, modificationTime=1670336581000),\n FileInfo(path='dbfs:/FileStore/2011_06_15.csv', name='2011_06_15.csv', size=151127, modificationTime=1670336581000),\n FileInfo(path='dbfs:/FileStore/2011_06_16.csv', name='2011_06_16.csv', size=136339, modificationTime=1670336582000),\n FileInfo(path='dbfs:/FileStore/2011_06_17.csv', name='2011_06_17.csv', size=85739, modificationTime=1670336583000),\n FileInfo(path='dbfs:/FileStore/2011_06_19.csv', name='2011_06_19.csv', size=105190, modificationTime=1670336583000),\n FileInfo(path='dbfs:/FileStore/2011_06_20.csv', name='2011_06_20.csv', size=175539, modificationTime=1670336584000),\n FileInfo(path='dbfs:/FileStore/2011_06_21.csv', name='2011_06_21.csv', size=134322, modificationTime=1670336585000),\n FileInfo(path='dbfs:/FileStore/2011_06_22.csv', name='2011_06_22.csv', size=91369, modificationTime=1670336585000),\n FileInfo(path='dbfs:/FileStore/2011_06_23.csv', name='2011_06_23.csv', size=175463, modificationTime=1670336587000),\n FileInfo(path='dbfs:/FileStore/2011_06_24.csv', name='2011_06_24.csv', size=91308, modificationTime=1670336587000),\n FileInfo(path='dbfs:/FileStore/2011_06_26.csv', name='2011_06_26.csv', size=64579, modificationTime=1670336587000),\n FileInfo(path='dbfs:/FileStore/2011_06_27.csv', name='2011_06_27.csv', size=104370, modificationTime=1670336588000),\n FileInfo(path='dbfs:/FileStore/2011_06_28.csv', name='2011_06_28.csv', size=92153, modificationTime=1670336588000),\n FileInfo(path='dbfs:/FileStore/2011_06_29.csv', name='2011_06_29.csv', size=117488, modificationTime=1670336589000),\n FileInfo(path='dbfs:/FileStore/2011_06_30.csv', name='2011_06_30.csv', size=143253, modificationTime=1670336590000),\n FileInfo(path='dbfs:/FileStore/2011_07_01.csv', name='2011_07_01.csv', size=90752, modificationTime=1670336590000),\n FileInfo(path='dbfs:/FileStore/2011_07_03.csv', name='2011_07_03.csv', size=54798, modificationTime=1670336590000),\n FileInfo(path='dbfs:/FileStore/2011_07_04.csv', name='2011_07_04.csv', size=189204, modificationTime=1670336592000),\n FileInfo(path='dbfs:/FileStore/2011_07_05.csv', name='2011_07_05.csv', size=189831, modificationTime=1670336592000),\n FileInfo(path='dbfs:/FileStore/2011_07_06.csv', name='2011_07_06.csv', size=159436, modificationTime=1670336594000),\n FileInfo(path='dbfs:/FileStore/2011_07_07.csv', name='2011_07_07.csv', size=171634, modificationTime=1670336594000),\n FileInfo(path='dbfs:/FileStore/2011_07_08.csv', name='2011_07_08.csv', size=140138, modificationTime=1670336595000),\n FileInfo(path='dbfs:/FileStore/2011_07_10.csv', name='2011_07_10.csv', size=74191, modificationTime=1670336595000),\n FileInfo(path='dbfs:/FileStore/2011_07_11.csv', name='2011_07_11.csv', size=133475, modificationTime=1670336597000),\n FileInfo(path='dbfs:/FileStore/2011_07_12.csv', name='2011_07_12.csv', size=144196, modificationTime=1670336597000),\n FileInfo(path='dbfs:/FileStore/2011_07_13.csv', name='2011_07_13.csv', size=144027, modificationTime=1670336598000),\n FileInfo(path='dbfs:/FileStore/2011_07_14.csv', name='2011_07_14.csv', size=153670, modificationTime=1670336599000),\n FileInfo(path='dbfs:/FileStore/2011_07_15.csv', name='2011_07_15.csv', size=99926, modificationTime=1670336599000),\n FileInfo(path='dbfs:/FileStore/2011_07_17.csv', name='2011_07_17.csv', size=112983, modificationTime=1670336600000),\n FileInfo(path='dbfs:/FileStore/2011_07_18.csv', name='2011_07_18.csv', size=194171, modificationTime=1670336601000),\n FileInfo(path='dbfs:/FileStore/2011_07_19.csv', name='2011_07_19.csv', size=147143, modificationTime=1670336601000),\n FileInfo(path='dbfs:/FileStore/2011_07_20.csv', name='2011_07_20.csv', size=177416, modificationTime=1670336603000),\n FileInfo(path='dbfs:/FileStore/2011_07_21.csv', name='2011_07_21.csv', size=140592, modificationTime=1670336602000),\n FileInfo(path='dbfs:/FileStore/2011_07_22.csv', name='2011_07_22.csv', size=113759, modificationTime=1670336604000),\n FileInfo(path='dbfs:/FileStore/2011_07_24.csv', name='2011_07_24.csv', size=101031, modificationTime=1670336604000),\n FileInfo(path='dbfs:/FileStore/2011_07_25.csv', name='2011_07_25.csv', size=170093, modificationTime=1670336605000),\n FileInfo(path='dbfs:/FileStore/2011_07_26.csv', name='2011_07_26.csv', size=112780, modificationTime=1670336605000),\n FileInfo(path='dbfs:/FileStore/2011_07_27.csv', name='2011_07_27.csv', size=109514, modificationTime=1670336606000),\n FileInfo(path='dbfs:/FileStore/2011_07_28.csv', name='2011_07_28.csv', size=138826, modificationTime=1670336607000),\n FileInfo(path='dbfs:/FileStore/2011_07_29.csv', name='2011_07_29.csv', size=101094, modificationTime=1670336607000),\n FileInfo(path='dbfs:/FileStore/2011_07_31.csv', name='2011_07_31.csv', size=114650, modificationTime=1670336608000),\n FileInfo(path='dbfs:/FileStore/2011_08_01.csv', name='2011_08_01.csv', size=107491, modificationTime=1670336608000),\n FileInfo(path='dbfs:/FileStore/2011_08_02.csv', name='2011_08_02.csv', size=120138, modificationTime=1670336609000),\n FileInfo(path='dbfs:/FileStore/2011_08_03.csv', name='2011_08_03.csv', size=140576, modificationTime=1670336610000),\n FileInfo(path='dbfs:/FileStore/2011_08_04.csv', name='2011_08_04.csv', size=162548, modificationTime=1670336611000),\n FileInfo(path='dbfs:/FileStore/2011_08_05.csv', name='2011_08_05.csv', size=127923, modificationTime=1670336611000),\n FileInfo(path='dbfs:/FileStore/2011_08_07.csv', name='2011_08_07.csv', size=49245, modificationTime=1670336612000),\n FileInfo(path='dbfs:/FileStore/2011_08_08.csv', name='2011_08_08.csv', size=131650, modificationTime=1670336612000),\n FileInfo(path='dbfs:/FileStore/2011_08_09.csv', name='2011_08_09.csv', size=100002, modificationTime=1670336613000),\n FileInfo(path='dbfs:/FileStore/2011_08_10.csv', name='2011_08_10.csv', size=120046, modificationTime=1670336614000),\n FileInfo(path='dbfs:/FileStore/2011_08_11.csv', name='2011_08_11.csv', size=175951, modificationTime=1670336614000),\n FileInfo(path='dbfs:/FileStore/2011_08_12.csv', name='2011_08_12.csv', size=97516, modificationTime=1670336615000),\n FileInfo(path='dbfs:/FileStore/2011_08_14.csv', name='2011_08_14.csv', size=50684, modificationTime=1670336615000),\n FileInfo(path='dbfs:/FileStore/2011_08_15.csv', name='2011_08_15.csv', size=82959, modificationTime=1670336616000),\n FileInfo(path='dbfs:/FileStore/2011_08_16.csv', name='2011_08_16.csv', size=92486, modificationTime=1670336616000),\n FileInfo(path='dbfs:/FileStore/2011_08_17.csv', name='2011_08_17.csv', size=148605, modificationTime=1670336617000),\n FileInfo(path='dbfs:/FileStore/2011_08_18.csv', name='2011_08_18.csv', size=137689, modificationTime=1670336617000),\n FileInfo(path='dbfs:/FileStore/2011_08_19.csv', name='2011_08_19.csv', size=72940, modificationTime=1670336619000),\n FileInfo(path='dbfs:/FileStore/2011_08_21.csv', name='2011_08_21.csv', size=97031, modificationTime=1670336619000),\n FileInfo(path='dbfs:/FileStore/2011_08_22.csv', name='2011_08_22.csv', size=114812, modificationTime=1670336620000),\n FileInfo(path='dbfs:/FileStore/2011_08_23.csv', name='2011_08_23.csv', size=130326, modificationTime=1670336620000),\n FileInfo(path='dbfs:/FileStore/2011_08_24.csv', name='2011_08_24.csv', size=167436, modificationTime=1670336622000),\n FileInfo(path='dbfs:/FileStore/2011_08_25.csv', name='2011_08_25.csv', size=118982, modificationTime=1670336622000),\n FileInfo(path='dbfs:/FileStore/2011_08_26.csv', name='2011_08_26.csv', size=82531, modificationTime=1670336623000),\n FileInfo(path='dbfs:/FileStore/2011_08_28.csv', name='2011_08_28.csv', size=107760, modificationTime=1670336623000),\n FileInfo(path='dbfs:/FileStore/2011_08_30.csv', name='2011_08_30.csv', size=274692, modificationTime=1670336625000),\n FileInfo(path='dbfs:/FileStore/2011_08_31.csv', name='2011_08_31.csv', size=113373, modificationTime=1670336624000),\n FileInfo(path='dbfs:/FileStore/2011_09_01.csv', name='2011_09_01.csv', size=127664, modificationTime=1670336626000),\n FileInfo(path='dbfs:/FileStore/2011_09_02.csv', name='2011_09_02.csv', size=205036, modificationTime=1670336627000),\n FileInfo(path='dbfs:/FileStore/2011_09_04.csv', name='2011_09_04.csv', size=120645, modificationTime=1670336627000),\n FileInfo(path='dbfs:/FileStore/2011_09_05.csv', name='2011_09_05.csv', size=141625, modificationTime=1670336629000),\n FileInfo(path='dbfs:/FileStore/2011_09_06.csv', name='2011_09_06.csv', size=102669, modificationTime=1670336628000),\n FileInfo(path='dbfs:/FileStore/2011_09_07.csv', name='2011_09_07.csv', size=181656, modificationTime=1670336630000),\n FileInfo(path='dbfs:/FileStore/2011_09_08.csv', name='2011_09_08.csv', size=156826, modificationTime=1670336630000),\n FileInfo(path='dbfs:/FileStore/2011_09_09.csv', name='2011_09_09.csv', size=142210, modificationTime=1670336631000),\n FileInfo(path='dbfs:/FileStore/2011_09_11.csv', name='2011_09_11.csv', size=185196, modificationTime=1670336632000),\n FileInfo(path='dbfs:/FileStore/2011_09_12.csv', name='2011_09_12.csv', size=154124, modificationTime=1670336633000),\n FileInfo(path='dbfs:/FileStore/2011_09_13.csv', name='2011_09_13.csv', size=217571, modificationTime=1670336634000),\n FileInfo(path='dbfs:/FileStore/2011_09_14.csv', name='2011_09_14.csv', size=123164, modificationTime=1670336634000),\n FileInfo(path='dbfs:/FileStore/2011_09_15.csv', name='2011_09_15.csv', size=195419, modificationTime=1670336636000),\n FileInfo(path='dbfs:/FileStore/2011_09_16.csv', name='2011_09_16.csv', size=131715, modificationTime=1670336636000),\n FileInfo(path='dbfs:/FileStore/2011_09_18.csv', name='2011_09_18.csv', size=116452, modificationTime=1670336637000),\n FileInfo(path='dbfs:/FileStore/2011_09_19.csv', name='2011_09_19.csv', size=128010, modificationTime=1670336637000),\n FileInfo(path='dbfs:/FileStore/2011_09_20.csv', name='2011_09_20.csv', size=153186, modificationTime=1670336638000),\n FileInfo(path='dbfs:/FileStore/2011_09_21.csv', name='2011_09_21.csv', size=272947, modificationTime=1670336640000),\n FileInfo(path='dbfs:/FileStore/2011_09_22.csv', name='2011_09_22.csv', size=246699, modificationTime=1670336641000),\n FileInfo(path='dbfs:/FileStore/2011_09_23.csv', name='2011_09_23.csv', size=233544, modificationTime=1670336642000),\n FileInfo(path='dbfs:/FileStore/2011_09_25.csv', name='2011_09_25.csv', size=182072, modificationTime=1670336642000),\n FileInfo(path='dbfs:/FileStore/2011_09_26.csv', name='2011_09_26.csv', size=141083, modificationTime=1670336644000),\n FileInfo(path='dbfs:/FileStore/2011_09_27.csv', name='2011_09_27.csv', size=168998, modificationTime=1670336644000),\n FileInfo(path='dbfs:/FileStore/2011_09_28.csv', name='2011_09_28.csv', size=255103, modificationTime=1670336646000),\n FileInfo(path='dbfs:/FileStore/2011_09_29.csv', name='2011_09_29.csv', size=225953, modificationTime=1670336647000),\n FileInfo(path='dbfs:/FileStore/2011_09_30.csv', name='2011_09_30.csv', size=168344, modificationTime=1670336648000),\n FileInfo(path='dbfs:/FileStore/2011_10_02.csv', name='2011_10_02.csv', size=130864, modificationTime=1670336648000),\n FileInfo(path='dbfs:/FileStore/2011_10_03.csv', name='2011_10_03.csv', size=205031, modificationTime=1670336650000),\n FileInfo(path='dbfs:/FileStore/2011_10_04.csv', name='2011_10_04.csv', size=249521, modificationTime=1670336650000),\n FileInfo(path='dbfs:/FileStore/2011_10_05.csv', name='2011_10_05.csv', size=219340, modificationTime=1670336652000),\n FileInfo(path='dbfs:/FileStore/2011_10_06.csv', name='2011_10_06.csv', size=285739, modificationTime=1670336653000),\n FileInfo(path='dbfs:/FileStore/2011_10_07.csv', name='2011_10_07.csv', size=216893, modificationTime=1670336654000),\n FileInfo(path='dbfs:/FileStore/2011_10_09.csv', name='2011_10_09.csv', size=118425, modificationTime=1670336654000),\n FileInfo(path='dbfs:/FileStore/2011_10_10.csv', name='2011_10_10.csv', size=289700, modificationTime=1670336656000),\n FileInfo(path='dbfs:/FileStore/2011_10_11.csv', name='2011_10_11.csv', size=217528, modificationTime=1670336656000),\n FileInfo(path='dbfs:/FileStore/2011_10_12.csv', name='2011_10_12.csv', size=192765, modificationTime=1670336658000),\n FileInfo(path='dbfs:/FileStore/2011_10_13.csv', name='2011_10_13.csv', size=209708, modificationTime=1670336658000),\n FileInfo(path='dbfs:/FileStore/2011_10_14.csv', name='2011_10_14.csv', size=162184, modificationTime=1670336659000),\n FileInfo(path='dbfs:/FileStore/2011_10_16.csv', name='2011_10_16.csv', size=114470, modificationTime=1670336659000),\n FileInfo(path='dbfs:/FileStore/2011_10_17.csv', name='2011_10_17.csv', size=261910, modificationTime=1670336662000),\n FileInfo(path='dbfs:/FileStore/2011_10_18.csv', name='2011_10_18.csv', size=257244, modificationTime=1670336661000),\n FileInfo(path='dbfs:/FileStore/2011_10_19.csv', name='2011_10_19.csv', size=206689, modificationTime=1670336663000),\n FileInfo(path='dbfs:/FileStore/2011_10_20.csv', name='2011_10_20.csv', size=212077, modificationTime=1670336664000),\n FileInfo(path='dbfs:/FileStore/2011_10_21.csv', name='2011_10_21.csv', size=127547, modificationTime=1670336665000),\n FileInfo(path='dbfs:/FileStore/2011_10_23.csv', name='2011_10_23.csv', size=158316, modificationTime=1670336665000),\n FileInfo(path='dbfs:/FileStore/2011_10_24.csv', name='2011_10_24.csv', size=263839, modificationTime=1670336667000),\n FileInfo(path='dbfs:/FileStore/2011_10_25.csv', name='2011_10_25.csv', size=223947, modificationTime=1670336667000),\n FileInfo(path='dbfs:/FileStore/2011_10_26.csv', name='2011_10_26.csv', size=174790, modificationTime=1670336669000),\n FileInfo(path='dbfs:/FileStore/2011_10_27.csv', name='2011_10_27.csv', size=228883, modificationTime=1670336669000),\n FileInfo(path='dbfs:/FileStore/2011_10_28.csv', name='2011_10_28.csv', size=146761, modificationTime=1670336670000),\n FileInfo(path='dbfs:/FileStore/2011_10_30.csv', name='2011_10_30.csv', size=264885, modificationTime=1670336672000),\n FileInfo(path='dbfs:/FileStore/2011_10_31.csv', name='2011_10_31.csv', size=298653, modificationTime=1670336673000),\n FileInfo(path='dbfs:/FileStore/2011_11_01.csv', name='2011_11_01.csv', size=161872, modificationTime=1670336673000),\n FileInfo(path='dbfs:/FileStore/2011_11_02.csv', name='2011_11_02.csv', size=233949, modificationTime=1670336675000),\n FileInfo(path='dbfs:/FileStore/2011_11_03.csv', name='2011_11_03.csv', size=216844, modificationTime=1670336675000),\n FileInfo(path='dbfs:/FileStore/2011_11_04.csv', name='2011_11_04.csv', size=270087, modificationTime=1670336678000),\n FileInfo(path='dbfs:/FileStore/2011_11_06.csv', name='2011_11_06.csv', size=313153, modificationTime=1670336678000),\n FileInfo(path='dbfs:/FileStore/2011_11_07.csv', name='2011_11_07.csv', size=188148, modificationTime=1670336679000),\n FileInfo(path='dbfs:/FileStore/2011_11_08.csv', name='2011_11_08.csv', size=359329, modificationTime=1670336681000),\n FileInfo(path='dbfs:/FileStore/2011_11_09.csv', name='2011_11_09.csv', size=244073, modificationTime=1670336681000),\n FileInfo(path='dbfs:/FileStore/2011_11_10.csv', name='2011_11_10.csv', size=295607, modificationTime=1670336683000),\n FileInfo(path='dbfs:/FileStore/2011_11_11.csv', name='2011_11_11.csv', size=359019, modificationTime=1670336684000),\n FileInfo(path='dbfs:/FileStore/2011_11_13.csv', name='2011_11_13.csv', size=272682, modificationTime=1670336686000),\n FileInfo(path='dbfs:/FileStore/2011_11_14.csv', name='2011_11_14.csv', size=322946, modificationTime=1670336687000),\n FileInfo(path='dbfs:/FileStore/2011_11_15.csv', name='2011_11_15.csv', size=304442, modificationTime=1670336688000),\n FileInfo(path='dbfs:/FileStore/2011_11_16.csv', name='2011_11_16.csv', size=371320, modificationTime=1670336692000),\n FileInfo(path='dbfs:/FileStore/2011_11_17.csv', name='2011_11_17.csv', size=321770, modificationTime=1670336692000),\n FileInfo(path='dbfs:/FileStore/2011_11_18.csv', name='2011_11_18.csv', size=258456, modificationTime=1670336694000),\n FileInfo(path='dbfs:/FileStore/2011_11_20.csv', name='2011_11_20.csv', size=302441, modificationTime=1670336695000),\n FileInfo(path='dbfs:/FileStore/2011_11_21.csv', name='2011_11_21.csv', size=262095, modificationTime=1670336696000),\n FileInfo(path='dbfs:/FileStore/2011_11_22.csv', name='2011_11_22.csv', size=351999, modificationTime=1670336698000),\n FileInfo(path='dbfs:/FileStore/2011_11_23.csv', name='2011_11_23.csv', size=327359, modificationTime=1670336699000),\n FileInfo(path='dbfs:/FileStore/2011_11_24.csv', name='2011_11_24.csv', size=331824, modificationTime=1670336701000),\n FileInfo(path='dbfs:/FileStore/2011_11_25.csv', name='2011_11_25.csv', size=273837, modificationTime=1670336702000),\n FileInfo(path='dbfs:/FileStore/2011_11_27.csv', name='2011_11_27.csv', size=230974, modificationTime=1670336703000),\n FileInfo(path='dbfs:/FileStore/2011_11_28.csv', name='2011_11_28.csv', size=297785, modificationTime=1670336705000),\n FileInfo(path='dbfs:/FileStore/2011_11_29.csv', name='2011_11_29.csv', size=381332, modificationTime=1670336706000),\n FileInfo(path='dbfs:/FileStore/2011_11_30.csv', name='2011_11_30.csv', size=303485, modificationTime=1670336707000),\n FileInfo(path='dbfs:/FileStore/2011_12_01.csv', name='2011_12_01.csv', size=259173, modificationTime=1670336708000),\n FileInfo(path='dbfs:/FileStore/2011_12_02.csv', name='2011_12_02.csv', size=254858, modificationTime=1670336709000),\n FileInfo(path='dbfs:/FileStore/2011_12_04.csv', name='2011_12_04.csv', size=184959, modificationTime=1670336710000),\n FileInfo(path='dbfs:/FileStore/2011_12_05.csv', name='2011_12_05.csv', size=472154, modificationTime=1670336714000),\n FileInfo(path='dbfs:/FileStore/2011_12_06.csv', name='2011_12_06.csv', size=300750, modificationTime=1670336713000),\n FileInfo(path='dbfs:/FileStore/2011_12_07.csv', name='2011_12_07.csv', size=217714, modificationTime=1670336715000),\n FileInfo(path='dbfs:/FileStore/2011_12_08.csv', name='2011_12_08.csv', size=432962, modificationTime=1670336719000),\n FileInfo(path='dbfs:/FileStore/2011_12_09.csv', name='2011_12_09.csv', size=140637, modificationTime=1670336717000),\n FileInfo(path='dbfs:/FileStore/2011_summary.csv', name='2011_summary.csv', size=7069, modificationTime=1670336632000),\n FileInfo(path='dbfs:/FileStore/2011_summary.json', name='2011_summary.json', size=21301, modificationTime=1670336657000),\n FileInfo(path='dbfs:/FileStore/2012_summary.csv', name='2012_summary.csv', size=6857, modificationTime=1670336633000),\n FileInfo(path='dbfs:/FileStore/2012_summary.json', name='2012_summary.json', size=20529, modificationTime=1670336657000),\n FileInfo(path='dbfs:/FileStore/2013_summary.csv', name='2013_summary.csv', size=7020, modificationTime=1670336633000),\n FileInfo(path='dbfs:/FileStore/2013_summary.json', name='2013_summary.json', size=20968, modificationTime=1670336657000),\n FileInfo(path='dbfs:/FileStore/2014_summary.csv', name='2014_summary.csv', size=6729, modificationTime=1670336634000),\n FileInfo(path='dbfs:/FileStore/2014_summary.json', name='2014_summary.json', size=20177, modificationTime=1670336658000),\n FileInfo(path='dbfs:/FileStore/201508_station_data.csv', name='201508_station_data.csv', size=5272, modificationTime=1670336727000),\n FileInfo(path='dbfs:/FileStore/2015_summary.csv', name='2015_summary.csv', size=7080, modificationTime=1670336634000),\n FileInfo(path='dbfs:/FileStore/2015_summary.json', name='2015_summary.json', size=21368, modificationTime=1670336658000),\n FileInfo(path='dbfs:/FileStore/BooksDataset.csv', name='BooksDataset.csv', size=69747726, modificationTime=1703159982000),\n FileInfo(path='dbfs:/FileStore/PysparkRaveendra_master.zip', name='PysparkRaveendra_master.zip', size=91639787, modificationTime=1702316278000),\n FileInfo(path='dbfs:/FileStore/archive.zip', name='archive.zip', size=7295, modificationTime=1703159434000),\n FileInfo(path='dbfs:/FileStore/categories.csv', name='categories.csv', size=1085, modificationTime=1668940109000),\n FileInfo(path='dbfs:/FileStore/customers.csv', name='customers.csv', size=966154, modificationTime=1668940081000),\n FileInfo(path='dbfs:/FileStore/employee.csv', name='employee.csv', size=8653, modificationTime=1669109226000),\n FileInfo(path='dbfs:/FileStore/example.csv', name='example.csv', size=4208, modificationTime=1668941185000),\n FileInfo(path='dbfs:/FileStore/flight.csv', name='flight.csv', size=43157, modificationTime=1669109275000),\n FileInfo(path='dbfs:/FileStore/greetings.txt', name='greetings.txt', size=68, modificationTime=1703178100000),\n FileInfo(path='dbfs:/FileStore/import-stage/', name='import-stage/', size=0, modificationTime=0),\n FileInfo(path='dbfs:/FileStore/iris.csv', name='iris.csv', size=3975, modificationTime=1669109294000),\n FileInfo(path='dbfs:/FileStore/muliti_delimiter.csv', name='muliti_delimiter.csv', size=85, modificationTime=1703150542000),\n FileInfo(path='dbfs:/FileStore/online_retail_dataset-1.csv', name='online_retail_dataset-1.csv', size=45038760, modificationTime=1670336445000),\n FileInfo(path='dbfs:/FileStore/online_retail_dataset.csv', name='online_retail_dataset.csv', size=45038760, modificationTime=1670336434000),\n FileInfo(path='dbfs:/FileStore/order_items.csv', name='order_items.csv', size=5581078, modificationTime=1668940257000),\n FileInfo(path='dbfs:/FileStore/orders.csv', name='orders.csv', size=3068825, modificationTime=1668934394000),\n FileInfo(path='dbfs:/FileStore/products.csv', name='products.csv', size=175500, modificationTime=1668940161000),\n FileInfo(path='dbfs:/FileStore/small_zipcode.csv', name='small_zipcode.csv', size=190, modificationTime=1703322907000),\n FileInfo(path='dbfs:/FileStore/tables/', name='tables/', size=0, modificationTime=0),\n FileInfo(path='dbfs:/FileStore/zipcodes.csv', name='zipcodes.csv', size=3057, modificationTime=1703321737000)]"
     ]
    }
   ],
   "source": [
    "dbutils.fs.ls(\"dbfs:/FileStore/\")"
   ]
  },
  {
   "cell_type": "code",
   "execution_count": 0,
   "metadata": {
    "application/vnd.databricks.v1+cell": {
     "cellMetadata": {
      "byteLimit": 2048000,
      "rowLimit": 10000
     },
     "inputWidgets": {},
     "nuid": "f63e75ba-c4c7-4165-9d9f-dadbdfc99eaa",
     "showTitle": false,
     "title": ""
    }
   },
   "outputs": [
    {
     "output_type": "stream",
     "name": "stdout",
     "output_type": "stream",
     "text": [
      "Out[7]: True"
     ]
    }
   ],
   "source": [
    "#copy the file from one location to one location\n",
    "dbutils.fs.cp('dbfs:/FileStore/2010_12_02.csv','dbfs:/user/root/courses')"
   ]
  },
  {
   "cell_type": "code",
   "execution_count": 0,
   "metadata": {
    "application/vnd.databricks.v1+cell": {
     "cellMetadata": {
      "byteLimit": 2048000,
      "rowLimit": 10000
     },
     "inputWidgets": {},
     "nuid": "d3c45d81-7fe3-4b6d-9a90-b5f26d9ecc60",
     "showTitle": false,
     "title": ""
    }
   },
   "outputs": [
    {
     "output_type": "stream",
     "name": "stdout",
     "output_type": "stream",
     "text": [
      "[Truncated to first 25 bytes]\nOut[15]: 'InvoiceNo,StockCode,Descr'"
     ]
    }
   ],
   "source": [
    "dbutils.fs.head('dbfs:/FileStore/2010_12_02.csv',25)"
   ]
  },
  {
   "cell_type": "code",
   "execution_count": 0,
   "metadata": {
    "application/vnd.databricks.v1+cell": {
     "cellMetadata": {
      "byteLimit": 2048000,
      "rowLimit": 10000
     },
     "inputWidgets": {},
     "nuid": "560b8547-18c6-4774-ad3c-cbbe236b855d",
     "showTitle": false,
     "title": ""
    }
   },
   "outputs": [
    {
     "output_type": "stream",
     "name": "stdout",
     "output_type": "stream",
     "text": [
      "Out[16]: True"
     ]
    }
   ],
   "source": [
    "dbutils.fs.mkdirs('dbfs:/FileStore/Practice')"
   ]
  },
  {
   "cell_type": "code",
   "execution_count": 0,
   "metadata": {
    "application/vnd.databricks.v1+cell": {
     "cellMetadata": {
      "byteLimit": 2048000,
      "rowLimit": 10000
     },
     "inputWidgets": {},
     "nuid": "46b304c2-afa9-4c4a-932f-8ba4130a0cf8",
     "showTitle": false,
     "title": ""
    }
   },
   "outputs": [
    {
     "output_type": "stream",
     "name": "stdout",
     "output_type": "stream",
     "text": [
      "Out[3]: True"
     ]
    }
   ],
   "source": [
    "#move the file from one location another location\n",
    "dbutils.fs.mv('dbfs:/FileStore/2010_12_01.csv','dbfs:/user/root/courses')"
   ]
  },
  {
   "cell_type": "code",
   "execution_count": 0,
   "metadata": {
    "application/vnd.databricks.v1+cell": {
     "cellMetadata": {
      "byteLimit": 2048000,
      "rowLimit": 10000
     },
     "inputWidgets": {},
     "nuid": "7e194e6c-664c-4f61-9346-b7ad7e04063c",
     "showTitle": false,
     "title": ""
    }
   },
   "outputs": [
    {
     "output_type": "stream",
     "name": "stdout",
     "output_type": "stream",
     "text": [
      "Wrote 20 bytes.\nOut[23]: True"
     ]
    }
   ],
   "source": [
    "#write the content into the give below path\n",
    "dbutils.fs.put('dbfs:/user/root/courses/practice.csv','Hello Hi Databricks!')"
   ]
  },
  {
   "cell_type": "code",
   "execution_count": 0,
   "metadata": {
    "application/vnd.databricks.v1+cell": {
     "cellMetadata": {
      "byteLimit": 2048000,
      "rowLimit": 10000
     },
     "inputWidgets": {},
     "nuid": "0b00a364-6931-48f8-9cf7-482330f98a7a",
     "showTitle": false,
     "title": ""
    }
   },
   "outputs": [
    {
     "output_type": "stream",
     "name": "stdout",
     "output_type": "stream",
     "text": [
      "Out[24]: True"
     ]
    }
   ],
   "source": [
    "#remove the file from the path\n",
    "dbutils.fs.rm('dbfs:/user/root/courses/practice.csv')"
   ]
  }
 ],
 "metadata": {
  "application/vnd.databricks.v1+notebook": {
   "dashboards": [],
   "language": "python",
   "notebookMetadata": {
    "mostRecentlyExecutedCommandWithImplicitDF": {
     "commandId": -1,
     "dataframes": [
      "_sqldf"
     ]
    },
    "pythonIndentUnit": 2
   },
   "notebookName": "Note Book Basics",
   "widgets": {}
  }
 },
 "nbformat": 4,
 "nbformat_minor": 0
}
